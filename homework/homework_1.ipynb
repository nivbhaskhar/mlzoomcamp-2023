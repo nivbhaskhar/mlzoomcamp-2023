{
 "cells": [
  {
   "cell_type": "code",
   "execution_count": 76,
   "id": "8284450d-dc69-4a08-a046-031fa36e8284",
   "metadata": {},
   "outputs": [],
   "source": [
    "import pandas as pd\n",
    "import numpy as np"
   ]
  },
  {
   "cell_type": "markdown",
   "id": "4fe7f603-ddfe-46a6-86b5-6b9fa130d8b6",
   "metadata": {},
   "source": [
    "Homework\n",
    "\n",
    "### Set up the environment\n",
    "\n",
    "You need to install Python, NumPy, Pandas, Matplotlib and Seaborn. For that, you can the instructions from\n",
    "[06-environment.md](https://github.com/alexeygrigorev/mlbookcamp-code/blob/master/course-zoomcamp/01-intro/06-environment.md)."
   ]
  },
  {
   "cell_type": "markdown",
   "id": "bdbc36b1-97f0-4f0b-8e91-2f286136ba9b",
   "metadata": {},
   "source": [
    "### Question 1\n",
    "\n",
    "What's the version of Pandas that you installed?\n",
    "\n",
    "You can get the version information using the `__version__` field:"
   ]
  },
  {
   "cell_type": "code",
   "execution_count": 6,
   "id": "8ab1a537-ba27-483e-b2db-2d91ec8316dd",
   "metadata": {},
   "outputs": [
    {
     "data": {
      "text/plain": [
       "'2.1.1'"
      ]
     },
     "execution_count": 6,
     "metadata": {},
     "output_type": "execute_result"
    }
   ],
   "source": [
    "pd.__version__"
   ]
  },
  {
   "cell_type": "markdown",
   "id": "e4d5407f-1c27-4c7f-addf-6f59a18e3c96",
   "metadata": {},
   "source": [
    "### Getting the data \n",
    "\n",
    "For this homework, we'll use the California Housing Prices dataset. Download it from \n",
    "[here](https://raw.githubusercontent.com/alexeygrigorev/datasets/master/housing.csv).\n",
    "\n",
    "You can do it with wget:\n",
    "\n",
    "```bash\n",
    "wget https://raw.githubusercontent.com/alexeygrigorev/datasets/master/housing.csv\n",
    "```\n",
    "\n",
    "Or just open it with your browser and click \"Save as...\".\n",
    "\n",
    "Now read it with Pandas.\n"
   ]
  },
  {
   "cell_type": "code",
   "execution_count": 10,
   "id": "062b7357-b671-4b85-875a-878e5e046113",
   "metadata": {},
   "outputs": [
    {
     "name": "stdout",
     "output_type": "stream",
     "text": [
      "  % Total    % Received % Xferd  Average Speed   Time    Time     Time  Current\n",
      "                                 Dload  Upload   Total   Spent    Left  Speed\n",
      "100 1390k  100 1390k    0     0  13.7M      0 --:--:-- --:--:-- --:--:-- 14.5M\n"
     ]
    }
   ],
   "source": [
    "! curl https://raw.githubusercontent.com/alexeygrigorev/datasets/master/housing.csv > housing.csv"
   ]
  },
  {
   "cell_type": "code",
   "execution_count": 12,
   "id": "9875575c-b77d-4839-9d24-74bb3309af9a",
   "metadata": {},
   "outputs": [],
   "source": [
    "housing_df = pd.read_csv(\"housing.csv\")"
   ]
  },
  {
   "cell_type": "markdown",
   "id": "bc2c2a2d-0395-47f7-8101-3c16c3a300a7",
   "metadata": {},
   "source": [
    "### Question 2\n",
    "\n",
    "How many columns are in the dataset?\n",
    "\n",
    "- 10\n",
    "- 6560\n",
    "- 10989\n",
    "- 20640"
   ]
  },
  {
   "cell_type": "code",
   "execution_count": 14,
   "id": "ff5ad8f7-bc40-4bfb-bb12-72317b380a9f",
   "metadata": {},
   "outputs": [
    {
     "data": {
      "text/plain": [
       "10"
      ]
     },
     "execution_count": 14,
     "metadata": {},
     "output_type": "execute_result"
    }
   ],
   "source": [
    "len(housing_df.columns)"
   ]
  },
  {
   "cell_type": "markdown",
   "id": "2d30ad30-b522-4d93-bf53-c8ed4886576f",
   "metadata": {},
   "source": [
    "### Question 3\n",
    "\n",
    "Which columns in the dataset have missing values?\n",
    "\n",
    "- `total_rooms`\n",
    "- `total_bedrooms`\n",
    "- both of the above\n",
    "- no empty columns in the dataset"
   ]
  },
  {
   "cell_type": "code",
   "execution_count": 16,
   "id": "395173ae-e10d-4224-a8d5-c6955e09c3a7",
   "metadata": {},
   "outputs": [
    {
     "data": {
      "text/html": [
       "<div>\n",
       "<style scoped>\n",
       "    .dataframe tbody tr th:only-of-type {\n",
       "        vertical-align: middle;\n",
       "    }\n",
       "\n",
       "    .dataframe tbody tr th {\n",
       "        vertical-align: top;\n",
       "    }\n",
       "\n",
       "    .dataframe thead th {\n",
       "        text-align: right;\n",
       "    }\n",
       "</style>\n",
       "<table border=\"1\" class=\"dataframe\">\n",
       "  <thead>\n",
       "    <tr style=\"text-align: right;\">\n",
       "      <th></th>\n",
       "      <th>longitude</th>\n",
       "      <th>latitude</th>\n",
       "      <th>housing_median_age</th>\n",
       "      <th>total_rooms</th>\n",
       "      <th>total_bedrooms</th>\n",
       "      <th>population</th>\n",
       "      <th>households</th>\n",
       "      <th>median_income</th>\n",
       "      <th>median_house_value</th>\n",
       "      <th>ocean_proximity</th>\n",
       "    </tr>\n",
       "  </thead>\n",
       "  <tbody>\n",
       "    <tr>\n",
       "      <th>0</th>\n",
       "      <td>False</td>\n",
       "      <td>False</td>\n",
       "      <td>False</td>\n",
       "      <td>False</td>\n",
       "      <td>False</td>\n",
       "      <td>False</td>\n",
       "      <td>False</td>\n",
       "      <td>False</td>\n",
       "      <td>False</td>\n",
       "      <td>False</td>\n",
       "    </tr>\n",
       "    <tr>\n",
       "      <th>1</th>\n",
       "      <td>False</td>\n",
       "      <td>False</td>\n",
       "      <td>False</td>\n",
       "      <td>False</td>\n",
       "      <td>False</td>\n",
       "      <td>False</td>\n",
       "      <td>False</td>\n",
       "      <td>False</td>\n",
       "      <td>False</td>\n",
       "      <td>False</td>\n",
       "    </tr>\n",
       "    <tr>\n",
       "      <th>2</th>\n",
       "      <td>False</td>\n",
       "      <td>False</td>\n",
       "      <td>False</td>\n",
       "      <td>False</td>\n",
       "      <td>False</td>\n",
       "      <td>False</td>\n",
       "      <td>False</td>\n",
       "      <td>False</td>\n",
       "      <td>False</td>\n",
       "      <td>False</td>\n",
       "    </tr>\n",
       "    <tr>\n",
       "      <th>3</th>\n",
       "      <td>False</td>\n",
       "      <td>False</td>\n",
       "      <td>False</td>\n",
       "      <td>False</td>\n",
       "      <td>False</td>\n",
       "      <td>False</td>\n",
       "      <td>False</td>\n",
       "      <td>False</td>\n",
       "      <td>False</td>\n",
       "      <td>False</td>\n",
       "    </tr>\n",
       "    <tr>\n",
       "      <th>4</th>\n",
       "      <td>False</td>\n",
       "      <td>False</td>\n",
       "      <td>False</td>\n",
       "      <td>False</td>\n",
       "      <td>False</td>\n",
       "      <td>False</td>\n",
       "      <td>False</td>\n",
       "      <td>False</td>\n",
       "      <td>False</td>\n",
       "      <td>False</td>\n",
       "    </tr>\n",
       "  </tbody>\n",
       "</table>\n",
       "</div>"
      ],
      "text/plain": [
       "   longitude  latitude  housing_median_age  total_rooms  total_bedrooms  \\\n",
       "0      False     False               False        False           False   \n",
       "1      False     False               False        False           False   \n",
       "2      False     False               False        False           False   \n",
       "3      False     False               False        False           False   \n",
       "4      False     False               False        False           False   \n",
       "\n",
       "   population  households  median_income  median_house_value  ocean_proximity  \n",
       "0       False       False          False               False            False  \n",
       "1       False       False          False               False            False  \n",
       "2       False       False          False               False            False  \n",
       "3       False       False          False               False            False  \n",
       "4       False       False          False               False            False  "
      ]
     },
     "execution_count": 16,
     "metadata": {},
     "output_type": "execute_result"
    }
   ],
   "source": [
    "housing_df.isna().head()"
   ]
  },
  {
   "cell_type": "code",
   "execution_count": 25,
   "id": "6c0671a9-ba56-462a-8298-bc39f5d02512",
   "metadata": {},
   "outputs": [],
   "source": [
    "nan_columns = housing_df.isna().any()"
   ]
  },
  {
   "cell_type": "code",
   "execution_count": 27,
   "id": "2b9f5520-8dee-4a54-8211-7d6fc2afabeb",
   "metadata": {},
   "outputs": [
    {
     "data": {
      "text/plain": [
       "longitude             False\n",
       "latitude              False\n",
       "housing_median_age    False\n",
       "total_rooms           False\n",
       "total_bedrooms         True\n",
       "population            False\n",
       "households            False\n",
       "median_income         False\n",
       "median_house_value    False\n",
       "ocean_proximity       False\n",
       "dtype: bool"
      ]
     },
     "execution_count": 27,
     "metadata": {},
     "output_type": "execute_result"
    }
   ],
   "source": [
    "nan_columns"
   ]
  },
  {
   "cell_type": "code",
   "execution_count": 33,
   "id": "cf1bd059-06c1-469a-9c8d-181a7a7c3f20",
   "metadata": {},
   "outputs": [
    {
     "data": {
      "text/plain": [
       "['total_bedrooms']"
      ]
     },
     "execution_count": 33,
     "metadata": {},
     "output_type": "execute_result"
    }
   ],
   "source": [
    "list(nan_columns[nan_columns].index)"
   ]
  },
  {
   "cell_type": "markdown",
   "id": "0de42eb7-6ef4-451b-b984-c1d0c988b3b0",
   "metadata": {},
   "source": [
    "### Question 4\n",
    "\n",
    "How many unique values does the `ocean_proximity` column have?\n",
    "\n",
    "- 3\n",
    "- 5\n",
    "- 7\n",
    "- 9"
   ]
  },
  {
   "cell_type": "code",
   "execution_count": 34,
   "id": "ea192796-a8e0-45d1-85b6-cfa7b1bf7578",
   "metadata": {},
   "outputs": [
    {
     "data": {
      "text/plain": [
       "array(['NEAR BAY', '<1H OCEAN', 'INLAND', 'NEAR OCEAN', 'ISLAND'],\n",
       "      dtype=object)"
      ]
     },
     "execution_count": 34,
     "metadata": {},
     "output_type": "execute_result"
    }
   ],
   "source": [
    "housing_df.ocean_proximity.unique()"
   ]
  },
  {
   "cell_type": "code",
   "execution_count": 35,
   "id": "ca738ec4-e4de-44a6-b73d-758d38265f04",
   "metadata": {},
   "outputs": [
    {
     "data": {
      "text/plain": [
       "5"
      ]
     },
     "execution_count": 35,
     "metadata": {},
     "output_type": "execute_result"
    }
   ],
   "source": [
    "housing_df.ocean_proximity.nunique()"
   ]
  },
  {
   "cell_type": "markdown",
   "id": "bfa4d1af-6cd1-47d4-a6c2-1ab9b0a463f1",
   "metadata": {},
   "source": [
    "### Question 5\n",
    "\n",
    "What's the average value of the `median_house_value` for the houses located near the bay?\n",
    "\n",
    "- 49433\n",
    "- 124805\n",
    "- 259212\n",
    "- 380440"
   ]
  },
  {
   "cell_type": "code",
   "execution_count": 45,
   "id": "c6dd72a8-04fb-4a5c-86f8-a6acf39c0163",
   "metadata": {},
   "outputs": [
    {
     "data": {
      "text/plain": [
       "259212.31179039303"
      ]
     },
     "execution_count": 45,
     "metadata": {},
     "output_type": "execute_result"
    }
   ],
   "source": [
    "housing_df[housing_df[\"ocean_proximity\"] == \"NEAR BAY\"].median_house_value.mean()"
   ]
  },
  {
   "cell_type": "markdown",
   "id": "7750d7d3-136c-49a5-b29d-6b481546d5f2",
   "metadata": {},
   "source": [
    "### Question 6\n",
    "\n",
    "1. Calculate the average of `total_bedrooms` column in the dataset.\n",
    "2. Use the `fillna` method to fill the missing values in `total_bedrooms` with the mean value from the previous step.\n",
    "3. Now, calculate the average of `total_bedrooms` again.\n",
    "4. Has it changed?\n",
    "\n",
    "Has it changed?\n",
    "\n",
    "> Hint: take into account only 3 digits after the decimal point.\n",
    "\n",
    "- Yes\n",
    "- No"
   ]
  },
  {
   "cell_type": "code",
   "execution_count": 51,
   "id": "24a0d2a3-ebcf-4fe8-b077-bcbbc934d189",
   "metadata": {},
   "outputs": [
    {
     "data": {
      "text/plain": [
       "537.8705525375618"
      ]
     },
     "execution_count": 51,
     "metadata": {},
     "output_type": "execute_result"
    }
   ],
   "source": [
    "housing_df.total_bedrooms[housing_df.total_bedrooms.notna()].mean()"
   ]
  },
  {
   "cell_type": "code",
   "execution_count": 54,
   "id": "d1fbb900-e809-4e7b-8ffe-631cf3084894",
   "metadata": {},
   "outputs": [
    {
     "data": {
      "text/plain": [
       "537.870546996124"
      ]
     },
     "execution_count": 54,
     "metadata": {},
     "output_type": "execute_result"
    }
   ],
   "source": [
    "housing_df.total_bedrooms.fillna(value=537.870).mean()"
   ]
  },
  {
   "cell_type": "markdown",
   "id": "8ba8e1aa-cbba-4d7a-b200-cd5174e52cc7",
   "metadata": {},
   "source": [
    "Let there be $X$ valid values with mean $M$ and $Y$ NaN values. After replacing the NaNs with $M$, the new mean would be \n",
    "\n",
    "$$((X\\times M) + (Y\\times M))/(X+Y) = M$$\n",
    "\n",
    "So the mean should not change!"
   ]
  },
  {
   "cell_type": "code",
   "execution_count": null,
   "id": "74a705ca-7cce-4e98-be7f-aa33394d78a4",
   "metadata": {},
   "outputs": [],
   "source": [
    "# if we want to replace the NaNs in place in the data frame"
   ]
  },
  {
   "cell_type": "code",
   "execution_count": 56,
   "id": "49957287-9150-420a-ac49-112b4779ba9a",
   "metadata": {},
   "outputs": [],
   "source": [
    "housing_df.total_bedrooms.fillna(value=537.870, inplace = True)"
   ]
  },
  {
   "cell_type": "code",
   "execution_count": 61,
   "id": "1d10b653-cda9-4102-bc9c-c4f2ae9fd016",
   "metadata": {},
   "outputs": [
    {
     "data": {
      "text/plain": [
       "longitude             False\n",
       "latitude              False\n",
       "housing_median_age    False\n",
       "total_rooms           False\n",
       "total_bedrooms        False\n",
       "population            False\n",
       "households            False\n",
       "median_income         False\n",
       "median_house_value    False\n",
       "ocean_proximity       False\n",
       "dtype: bool"
      ]
     },
     "execution_count": 61,
     "metadata": {},
     "output_type": "execute_result"
    }
   ],
   "source": [
    "housing_df.isna().any()"
   ]
  },
  {
   "cell_type": "markdown",
   "id": "285ec91f-04f3-42a7-b70e-9c4ddbfa1ce8",
   "metadata": {},
   "source": [
    "### Question 7\n",
    "\n",
    "1. Select all the options located on islands.\n",
    "2. Select only columns `housing_median_age`, `total_rooms`, `total_bedrooms`.\n",
    "3. Get the underlying NumPy array. Let's call it `X`.\n",
    "4. Compute matrix-matrix multiplication between the transpose of `X` and `X`. To get the transpose, use `X.T`. Let's call the result `XTX`.\n",
    "5. Compute the inverse of `XTX`.\n",
    "6. Create an array `y` with values `[950, 1300, 800, 1000, 1300]`.\n",
    "7. Multiply the inverse of `XTX` with the transpose of `X`, and then multiply the result by `y`. Call the result `w`.\n",
    "8. What's the value of the last element of `w`?\n",
    "\n",
    "> **Note**: You just implemented linear regression. We'll talk about it in the next lesson.\n",
    "\n",
    "- -1.4812\n",
    "- 0.001\n",
    "- 5.6992\n",
    "- 23.1233\n",
    "\n",
    "\n",
    "\n",
    "\n"
   ]
  },
  {
   "cell_type": "code",
   "execution_count": 73,
   "id": "3ee651b9-7476-4505-921c-d3c313b76b46",
   "metadata": {},
   "outputs": [],
   "source": [
    "feature_df = housing_df[housing_df[\"ocean_proximity\"] == \"ISLAND\"][[\"housing_median_age\", \"total_rooms\", \"total_bedrooms\"]].reset_index(drop=True)"
   ]
  },
  {
   "cell_type": "code",
   "execution_count": 78,
   "id": "f9b7c489-c19a-4912-ac76-c998802bdc25",
   "metadata": {},
   "outputs": [
    {
     "data": {
      "text/html": [
       "<div>\n",
       "<style scoped>\n",
       "    .dataframe tbody tr th:only-of-type {\n",
       "        vertical-align: middle;\n",
       "    }\n",
       "\n",
       "    .dataframe tbody tr th {\n",
       "        vertical-align: top;\n",
       "    }\n",
       "\n",
       "    .dataframe thead th {\n",
       "        text-align: right;\n",
       "    }\n",
       "</style>\n",
       "<table border=\"1\" class=\"dataframe\">\n",
       "  <thead>\n",
       "    <tr style=\"text-align: right;\">\n",
       "      <th></th>\n",
       "      <th>housing_median_age</th>\n",
       "      <th>total_rooms</th>\n",
       "      <th>total_bedrooms</th>\n",
       "    </tr>\n",
       "  </thead>\n",
       "  <tbody>\n",
       "    <tr>\n",
       "      <th>0</th>\n",
       "      <td>27.0</td>\n",
       "      <td>1675.0</td>\n",
       "      <td>521.0</td>\n",
       "    </tr>\n",
       "    <tr>\n",
       "      <th>1</th>\n",
       "      <td>52.0</td>\n",
       "      <td>2359.0</td>\n",
       "      <td>591.0</td>\n",
       "    </tr>\n",
       "    <tr>\n",
       "      <th>2</th>\n",
       "      <td>52.0</td>\n",
       "      <td>2127.0</td>\n",
       "      <td>512.0</td>\n",
       "    </tr>\n",
       "    <tr>\n",
       "      <th>3</th>\n",
       "      <td>52.0</td>\n",
       "      <td>996.0</td>\n",
       "      <td>264.0</td>\n",
       "    </tr>\n",
       "    <tr>\n",
       "      <th>4</th>\n",
       "      <td>29.0</td>\n",
       "      <td>716.0</td>\n",
       "      <td>214.0</td>\n",
       "    </tr>\n",
       "  </tbody>\n",
       "</table>\n",
       "</div>"
      ],
      "text/plain": [
       "   housing_median_age  total_rooms  total_bedrooms\n",
       "0                27.0       1675.0           521.0\n",
       "1                52.0       2359.0           591.0\n",
       "2                52.0       2127.0           512.0\n",
       "3                52.0        996.0           264.0\n",
       "4                29.0        716.0           214.0"
      ]
     },
     "execution_count": 78,
     "metadata": {},
     "output_type": "execute_result"
    }
   ],
   "source": [
    "feature_df"
   ]
  },
  {
   "cell_type": "code",
   "execution_count": 81,
   "id": "f2902ac2-06cd-4217-aafa-1be9e85e16f4",
   "metadata": {},
   "outputs": [],
   "source": [
    "X = np.array(feature_df)"
   ]
  },
  {
   "cell_type": "code",
   "execution_count": 83,
   "id": "5592e04c-e8e6-43b9-9767-5471d70d0a4b",
   "metadata": {},
   "outputs": [
    {
     "data": {
      "text/plain": [
       "array([[  27., 1675.,  521.],\n",
       "       [  52., 2359.,  591.],\n",
       "       [  52., 2127.,  512.],\n",
       "       [  52.,  996.,  264.],\n",
       "       [  29.,  716.,  214.]])"
      ]
     },
     "execution_count": 83,
     "metadata": {},
     "output_type": "execute_result"
    }
   ],
   "source": [
    "X"
   ]
  },
  {
   "cell_type": "code",
   "execution_count": 80,
   "id": "9d35360a-7991-451f-b8dc-c4bb800fbffb",
   "metadata": {},
   "outputs": [
    {
     "data": {
      "text/plain": [
       "array([[  27.,   52.,   52.,   52.,   29.],\n",
       "       [1675., 2359., 2127.,  996.,  716.],\n",
       "       [ 521.,  591.,  512.,  264.,  214.]])"
      ]
     },
     "execution_count": 80,
     "metadata": {},
     "output_type": "execute_result"
    }
   ],
   "source": [
    "X.T"
   ]
  },
  {
   "cell_type": "code",
   "execution_count": 84,
   "id": "6043da61-b914-48f8-ab37-138a56cf66b0",
   "metadata": {},
   "outputs": [
    {
     "data": {
      "text/plain": [
       "((5, 3), (3, 5))"
      ]
     },
     "execution_count": 84,
     "metadata": {},
     "output_type": "execute_result"
    }
   ],
   "source": [
    "X.shape, X.T.shape"
   ]
  },
  {
   "cell_type": "code",
   "execution_count": 85,
   "id": "1548af26-f36b-4697-b276-134bdcf50b68",
   "metadata": {},
   "outputs": [],
   "source": [
    "y = np.array([950, 1300, 800, 1000, 1300])"
   ]
  },
  {
   "cell_type": "code",
   "execution_count": 103,
   "id": "2daba757-c3d7-4a66-a436-8c1fd6b20a5e",
   "metadata": {},
   "outputs": [
    {
     "data": {
      "text/plain": [
       "(array([ 950, 1300,  800, 1000, 1300]), (5,))"
      ]
     },
     "execution_count": 103,
     "metadata": {},
     "output_type": "execute_result"
    }
   ],
   "source": [
    "y, y.shape"
   ]
  },
  {
   "cell_type": "code",
   "execution_count": 91,
   "id": "6c9edd09-818f-40fd-8f7d-37efb48cf7df",
   "metadata": {},
   "outputs": [],
   "source": [
    "XTX = np.matmul(X.T,X)"
   ]
  },
  {
   "cell_type": "code",
   "execution_count": 92,
   "id": "0d08dc88-a4df-4270-b330-98dcda3b9b8d",
   "metadata": {},
   "outputs": [
    {
     "data": {
      "text/plain": [
       "array([[9.6820000e+03, 3.5105300e+05, 9.1357000e+04],\n",
       "       [3.5105300e+05, 1.4399307e+07, 3.7720360e+06],\n",
       "       [9.1357000e+04, 3.7720360e+06, 9.9835800e+05]])"
      ]
     },
     "execution_count": 92,
     "metadata": {},
     "output_type": "execute_result"
    }
   ],
   "source": [
    "XTX"
   ]
  },
  {
   "cell_type": "code",
   "execution_count": 93,
   "id": "7a92254e-bfd6-4158-bad9-82582edc615a",
   "metadata": {},
   "outputs": [],
   "source": [
    "XTX_inv = np.linalg.inv(XTX)"
   ]
  },
  {
   "cell_type": "code",
   "execution_count": 94,
   "id": "2a28a7f4-e379-4640-a69a-c916af979097",
   "metadata": {},
   "outputs": [
    {
     "data": {
      "text/plain": [
       "array([[ 9.19403586e-04, -3.66412216e-05,  5.43072261e-05],\n",
       "       [-3.66412216e-05,  8.23303633e-06, -2.77534485e-05],\n",
       "       [ 5.43072261e-05, -2.77534485e-05,  1.00891325e-04]])"
      ]
     },
     "execution_count": 94,
     "metadata": {},
     "output_type": "execute_result"
    }
   ],
   "source": [
    "XTX_inv"
   ]
  },
  {
   "cell_type": "code",
   "execution_count": 101,
   "id": "7684f332-b468-428a-a8ea-e78a90a44fb9",
   "metadata": {},
   "outputs": [
    {
     "data": {
      "text/plain": [
       "(array([[-0.00825608, -0.00653208, -0.00232159,  0.02565144,  0.01204934],\n",
       "        [-0.00165852,  0.0011141 ,  0.00139656, -0.00103215, -0.00110698],\n",
       "        [ 0.00754365, -0.00301964, -0.00455125,  0.00181685,  0.00329418]]),\n",
       " (3, 5))"
      ]
     },
     "execution_count": 101,
     "metadata": {},
     "output_type": "execute_result"
    }
   ],
   "source": [
    "np.matmul(XTX_inv, X.T), np.matmul(XTX_inv, X.T).shape"
   ]
  },
  {
   "cell_type": "code",
   "execution_count": 97,
   "id": "cf3b9129-a854-4314-b6b8-0a027c010ef2",
   "metadata": {},
   "outputs": [
    {
     "data": {
      "text/plain": [
       "(5,)"
      ]
     },
     "execution_count": 97,
     "metadata": {},
     "output_type": "execute_result"
    }
   ],
   "source": [
    "y.shape"
   ]
  },
  {
   "cell_type": "code",
   "execution_count": 104,
   "id": "30c08787-7e4c-4d23-b464-4dd90b6f2cd8",
   "metadata": {},
   "outputs": [],
   "source": [
    "w = np.matmul(np.matmul(XTX_inv, X.T), y)"
   ]
  },
  {
   "cell_type": "code",
   "execution_count": 105,
   "id": "c94e1493-4851-4de7-8548-fc04834a2bee",
   "metadata": {},
   "outputs": [
    {
     "data": {
      "text/plain": [
       "array([23.12330961, -1.48124183,  5.69922946])"
      ]
     },
     "execution_count": 105,
     "metadata": {},
     "output_type": "execute_result"
    }
   ],
   "source": [
    "w"
   ]
  },
  {
   "cell_type": "code",
   "execution_count": 106,
   "id": "6cd83ed9-19d3-46b5-b575-d25855621304",
   "metadata": {},
   "outputs": [
    {
     "data": {
      "text/plain": [
       "5.699229455065586"
      ]
     },
     "execution_count": 106,
     "metadata": {},
     "output_type": "execute_result"
    }
   ],
   "source": [
    "w[-1]"
   ]
  },
  {
   "cell_type": "code",
   "execution_count": null,
   "id": "3358c6e5-5be6-4ab9-8ff4-f120a804daa8",
   "metadata": {},
   "outputs": [],
   "source": []
  }
 ],
 "metadata": {
  "kernelspec": {
   "display_name": "Python 3 (ipykernel)",
   "language": "python",
   "name": "python3"
  },
  "language_info": {
   "codemirror_mode": {
    "name": "ipython",
    "version": 3
   },
   "file_extension": ".py",
   "mimetype": "text/x-python",
   "name": "python",
   "nbconvert_exporter": "python",
   "pygments_lexer": "ipython3",
   "version": "3.11.4"
  }
 },
 "nbformat": 4,
 "nbformat_minor": 5
}
