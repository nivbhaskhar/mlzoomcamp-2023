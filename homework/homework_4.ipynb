{
 "cells": [
  {
   "cell_type": "code",
   "execution_count": 1,
   "id": "bdfb3e01-ca06-4c43-8782-0e08434a3432",
   "metadata": {},
   "outputs": [],
   "source": [
    "import numpy as np\n",
    "import pandas as pd\n",
    "import matplotlib.pyplot as plt\n",
    "from sklearn.model_selection import train_test_split, KFold\n",
    "from sklearn.metrics import roc_curve, auc, precision_score, recall_score\n",
    "from sklearn.feature_extraction import DictVectorizer\n",
    "from sklearn.linear_model import LogisticRegression\n",
    "import pprint\n",
    "#from tqdm.auto import tqdm\n"
   ]
  },
  {
   "cell_type": "markdown",
   "id": "12d1d663-7b31-4800-9513-3dfdc6aac6e0",
   "metadata": {},
   "source": [
    "In this homework, we will use the Car price dataset like last week. Download it from [here](https://raw.githubusercontent.com/alexeygrigorev/mlbookcamp-code/master/chapter-02-car-price/data.csv).\n",
    "\n",
    "Or you can do it with `wget`:\n",
    "\n",
    "```bash\n",
    "wget https://raw.githubusercontent.com/alexeygrigorev/mlbookcamp-code/master/chapter-02-car-price/data.csv\n",
    "```\n",
    "\n",
    "\n",
    "We'll work with the `MSRP` variable, and we'll transform it to a classification task. \n",
    "\n",
    "For the rest of the homework, you'll need to use only these columns:\n",
    "\n",
    "* `Make`,\n",
    "* `Model`,\n",
    "* `Year`,\n",
    "* `Engine HP`,\n",
    "* `Engine Cylinders`,\n",
    "* `Transmission Type`,\n",
    "* `Vehicle Style`,\n",
    "* `highway MPG`,\n",
    "* `city mpg`\n",
    "* `MSRP`"
   ]
  },
  {
   "cell_type": "code",
   "execution_count": 2,
   "id": "901da7c2-c780-4a73-bd2a-5fbbf407f9dc",
   "metadata": {},
   "outputs": [
    {
     "name": "stdout",
     "output_type": "stream",
     "text": [
      "  % Total    % Received % Xferd  Average Speed   Time    Time     Time  Current\n",
      "                                 Dload  Upload   Total   Spent    Left  Speed\n",
      "100 1440k  100 1440k    0     0  4115k      0 --:--:-- --:--:-- --:--:-- 4200k\n"
     ]
    }
   ],
   "source": [
    "!curl https://raw.githubusercontent.com/alexeygrigorev/mlbookcamp-code/master/chapter-02-car-price/data.csv > car_price.csv"
   ]
  },
  {
   "cell_type": "markdown",
   "id": "4d2af0d3-e4f5-49a4-a7ef-c339188ce35d",
   "metadata": {},
   "source": [
    "### Data preparation\n",
    "\n",
    "* Keep only the columns above\n",
    "* Lowercase the column names and replace spaces with underscores\n",
    "* Fill the missing values with 0 \n",
    "* Make the price binary (1 if above the average, 0 otherwise) - this will be our target variable `above_average`\n",
    "\n",
    "Split the data into 3 parts: train/validation/test with 60%/20%/20% distribution. Use `train_test_split` function for that with `random_state=1`\n"
   ]
  },
  {
   "cell_type": "code",
   "execution_count": 3,
   "id": "d9826a97-f58a-43ea-b96b-701a96d67395",
   "metadata": {},
   "outputs": [],
   "source": [
    "columns = [\"Make\",\n",
    "\"Model\",\n",
    "\"Year\",\n",
    "\"Engine HP\",\n",
    "\"Engine Cylinders\",\n",
    "\"Transmission Type\",\n",
    "\"Vehicle Style\",\n",
    "\"highway MPG\",\n",
    "\"city mpg\",\n",
    "\"MSRP\"]"
   ]
  },
  {
   "cell_type": "code",
   "execution_count": 4,
   "id": "f0beb769-d17c-429f-b999-1716ae1e447c",
   "metadata": {},
   "outputs": [],
   "source": [
    "car_price_df = pd.read_csv(\"car_price.csv\")[columns]\n",
    "car_price_df.columns = car_price_df.columns.str.lower().str.replace(' ', '_')\n",
    "car_price_df.fillna(value=0, inplace=True)"
   ]
  },
  {
   "cell_type": "code",
   "execution_count": 5,
   "id": "f9a7c67a-6b37-4f32-81f8-e0c149791d6f",
   "metadata": {},
   "outputs": [
    {
     "data": {
      "text/plain": [
       "make                 False\n",
       "model                False\n",
       "year                 False\n",
       "engine_hp            False\n",
       "engine_cylinders     False\n",
       "transmission_type    False\n",
       "vehicle_style        False\n",
       "highway_mpg          False\n",
       "city_mpg             False\n",
       "msrp                 False\n",
       "dtype: bool"
      ]
     },
     "execution_count": 5,
     "metadata": {},
     "output_type": "execute_result"
    }
   ],
   "source": [
    "car_price_df.isna().any()"
   ]
  },
  {
   "cell_type": "code",
   "execution_count": 6,
   "id": "169c7d76-9805-4327-bf83-a8912ff3eea6",
   "metadata": {},
   "outputs": [],
   "source": [
    "avg_price = car_price_df[\"msrp\"].mean()\n",
    "car_price_df[\"above_average\"] = (car_price_df[\"msrp\"] >= avg_price).astype(int)\n",
    "del car_price_df[\"msrp\"]"
   ]
  },
  {
   "cell_type": "code",
   "execution_count": 7,
   "id": "f3a71b58-9566-4d69-a056-d379342c9a14",
   "metadata": {},
   "outputs": [
    {
     "data": {
      "text/html": [
       "<div>\n",
       "<style scoped>\n",
       "    .dataframe tbody tr th:only-of-type {\n",
       "        vertical-align: middle;\n",
       "    }\n",
       "\n",
       "    .dataframe tbody tr th {\n",
       "        vertical-align: top;\n",
       "    }\n",
       "\n",
       "    .dataframe thead th {\n",
       "        text-align: right;\n",
       "    }\n",
       "</style>\n",
       "<table border=\"1\" class=\"dataframe\">\n",
       "  <thead>\n",
       "    <tr style=\"text-align: right;\">\n",
       "      <th></th>\n",
       "      <th>make</th>\n",
       "      <th>model</th>\n",
       "      <th>year</th>\n",
       "      <th>engine_hp</th>\n",
       "      <th>engine_cylinders</th>\n",
       "      <th>transmission_type</th>\n",
       "      <th>vehicle_style</th>\n",
       "      <th>highway_mpg</th>\n",
       "      <th>city_mpg</th>\n",
       "      <th>above_average</th>\n",
       "    </tr>\n",
       "  </thead>\n",
       "  <tbody>\n",
       "    <tr>\n",
       "      <th>0</th>\n",
       "      <td>BMW</td>\n",
       "      <td>1 Series M</td>\n",
       "      <td>2011</td>\n",
       "      <td>335.0</td>\n",
       "      <td>6.0</td>\n",
       "      <td>MANUAL</td>\n",
       "      <td>Coupe</td>\n",
       "      <td>26</td>\n",
       "      <td>19</td>\n",
       "      <td>1</td>\n",
       "    </tr>\n",
       "    <tr>\n",
       "      <th>1</th>\n",
       "      <td>BMW</td>\n",
       "      <td>1 Series</td>\n",
       "      <td>2011</td>\n",
       "      <td>300.0</td>\n",
       "      <td>6.0</td>\n",
       "      <td>MANUAL</td>\n",
       "      <td>Convertible</td>\n",
       "      <td>28</td>\n",
       "      <td>19</td>\n",
       "      <td>1</td>\n",
       "    </tr>\n",
       "    <tr>\n",
       "      <th>2</th>\n",
       "      <td>BMW</td>\n",
       "      <td>1 Series</td>\n",
       "      <td>2011</td>\n",
       "      <td>300.0</td>\n",
       "      <td>6.0</td>\n",
       "      <td>MANUAL</td>\n",
       "      <td>Coupe</td>\n",
       "      <td>28</td>\n",
       "      <td>20</td>\n",
       "      <td>0</td>\n",
       "    </tr>\n",
       "    <tr>\n",
       "      <th>3</th>\n",
       "      <td>BMW</td>\n",
       "      <td>1 Series</td>\n",
       "      <td>2011</td>\n",
       "      <td>230.0</td>\n",
       "      <td>6.0</td>\n",
       "      <td>MANUAL</td>\n",
       "      <td>Coupe</td>\n",
       "      <td>28</td>\n",
       "      <td>18</td>\n",
       "      <td>0</td>\n",
       "    </tr>\n",
       "    <tr>\n",
       "      <th>4</th>\n",
       "      <td>BMW</td>\n",
       "      <td>1 Series</td>\n",
       "      <td>2011</td>\n",
       "      <td>230.0</td>\n",
       "      <td>6.0</td>\n",
       "      <td>MANUAL</td>\n",
       "      <td>Convertible</td>\n",
       "      <td>28</td>\n",
       "      <td>18</td>\n",
       "      <td>0</td>\n",
       "    </tr>\n",
       "  </tbody>\n",
       "</table>\n",
       "</div>"
      ],
      "text/plain": [
       "  make       model  year  engine_hp  engine_cylinders transmission_type  \\\n",
       "0  BMW  1 Series M  2011      335.0               6.0            MANUAL   \n",
       "1  BMW    1 Series  2011      300.0               6.0            MANUAL   \n",
       "2  BMW    1 Series  2011      300.0               6.0            MANUAL   \n",
       "3  BMW    1 Series  2011      230.0               6.0            MANUAL   \n",
       "4  BMW    1 Series  2011      230.0               6.0            MANUAL   \n",
       "\n",
       "  vehicle_style  highway_mpg  city_mpg  above_average  \n",
       "0         Coupe           26        19              1  \n",
       "1   Convertible           28        19              1  \n",
       "2         Coupe           28        20              0  \n",
       "3         Coupe           28        18              0  \n",
       "4   Convertible           28        18              0  "
      ]
     },
     "execution_count": 7,
     "metadata": {},
     "output_type": "execute_result"
    }
   ],
   "source": [
    "car_price_df.head()"
   ]
  },
  {
   "cell_type": "code",
   "execution_count": 8,
   "id": "688dd2cf-7071-4b81-8be7-cbdd09ed058c",
   "metadata": {},
   "outputs": [
    {
     "data": {
      "text/plain": [
       "make                  object\n",
       "model                 object\n",
       "year                   int64\n",
       "engine_hp            float64\n",
       "engine_cylinders     float64\n",
       "transmission_type     object\n",
       "vehicle_style         object\n",
       "highway_mpg            int64\n",
       "city_mpg               int64\n",
       "above_average          int64\n",
       "dtype: object"
      ]
     },
     "execution_count": 8,
     "metadata": {},
     "output_type": "execute_result"
    }
   ],
   "source": [
    "car_price_df.dtypes"
   ]
  },
  {
   "cell_type": "code",
   "execution_count": 9,
   "id": "403b1a42-486c-44c1-acd5-7e6ebe28d04a",
   "metadata": {},
   "outputs": [],
   "source": [
    "car_price_df.year = car_price_df.year.astype(object)\n"
   ]
  },
  {
   "cell_type": "code",
   "execution_count": 10,
   "id": "96f34dae-de91-4539-a65e-3e57b2fc8803",
   "metadata": {},
   "outputs": [
    {
     "name": "stdout",
     "output_type": "stream",
     "text": [
      "categorical_features = ['make', 'model', 'year', 'transmission_type', 'vehicle_style']\n",
      "numerical_features = ['engine_hp', 'engine_cylinders', 'highway_mpg', 'city_mpg']\n"
     ]
    }
   ],
   "source": [
    "target_variable = \"above_average\"\n",
    "\n",
    "categorical_features = list(car_price_df.dtypes[car_price_df.dtypes == object].index)\n",
    "numerical_features = [c for c in car_price_df.columns if c not in categorical_features and c!= target_variable]\n",
    "print(f\"categorical_features = {categorical_features}\")\n",
    "print(f\"numerical_features = {numerical_features}\")"
   ]
  },
  {
   "cell_type": "code",
   "execution_count": 11,
   "id": "857fac97-9fa2-4253-8382-cbb3622f105d",
   "metadata": {},
   "outputs": [],
   "source": [
    "df = {}\n",
    "\n",
    "df[\"full_train\"], df[\"test\"] = train_test_split(car_price_df, test_size=0.2, random_state=1)\n",
    "df[\"train\"], df[\"val\"] = train_test_split(df[\"full_train\"], test_size=0.25, random_state=1) # 0.8 * ? = 0.2 => ? = 0.2/0.8 = 0.25\n",
    "\n",
    "\n",
    "def prepare_data(df, target_variable, label, data):\n",
    "    df = df.reset_index(drop=True)\n",
    "    data[label][\"y\"] = df[target_variable].to_numpy()\n",
    "    del df[target_variable]\n",
    "    data[label][\"X\"] = df\n",
    "\n",
    "\n",
    "labels = [\"train\", \"val\", \"test\", \"full_train\"]\n",
    "data = {label: {} for label in labels}\n",
    "target_variable = \"above_average\"\n",
    "for label in labels:\n",
    "    prepare_data(df[label], target_variable, label, data)"
   ]
  },
  {
   "cell_type": "code",
   "execution_count": 12,
   "id": "c148f5ab-bf9c-4f0d-ab47-6d5020d641d3",
   "metadata": {},
   "outputs": [
    {
     "name": "stdout",
     "output_type": "stream",
     "text": [
      "train data : X is of shape = (7148, 9)\n",
      "train data : y is of shape = (7148,)\n",
      "val data : X is of shape = (2383, 9)\n",
      "val data : y is of shape = (2383,)\n",
      "test data : X is of shape = (2383, 9)\n",
      "test data : y is of shape = (2383,)\n",
      "full_train data : X is of shape = (9531, 9)\n",
      "full_train data : y is of shape = (9531,)\n"
     ]
    }
   ],
   "source": [
    "for label in labels:\n",
    "    for v in [\"X\", \"y\"]:\n",
    "        print(f\"{label} data : {v} is of shape = {data[label][v].shape}\")"
   ]
  },
  {
   "cell_type": "markdown",
   "id": "f8bbc3e0-7e80-4ecb-92db-b840cbd4cfb8",
   "metadata": {},
   "source": [
    "### Question 1: ROC AUC feature importance\n",
    "\n",
    "ROC AUC could also be used to evaluate feature importance of numerical variables. \n",
    "\n",
    "Let's do that\n",
    "\n",
    "* For each numerical variable, use it as score and compute AUC with the `above_average` variable\n",
    "* Use the training dataset for that\n",
    "\n",
    "\n",
    "If your AUC is < 0.5, invert this variable by putting \"-\" in front\n",
    "\n",
    "(e.g. `-df_train['engine_hp']`)\n",
    "\n",
    "AUC can go below 0.5 if the variable is negatively correlated with the target varialble. You can change the direction of the correlation by negating this variable - then negative correlation becomes positive.\n",
    "\n",
    "Which numerical variable (among the following 4) has the highest AUC?\n",
    "\n",
    "- `engine_hp`\n",
    "- `engine_cylinders`\n",
    "- `highway_mpg`\n",
    "- `city_mpg`\n"
   ]
  },
  {
   "cell_type": "code",
   "execution_count": 13,
   "id": "d9e4f2da-e6a5-4549-a55b-e336f7e34f27",
   "metadata": {},
   "outputs": [],
   "source": [
    "def plot_roc_for_numerical_feature(fpr, tpr, feature_name, auc_value):\n",
    "    plt.figure(figsize=(5, 5))\n",
    "    plt.plot(fpr, tpr, label=f\"{feature_name} [AUC] = {auc_value}\")\n",
    "    plt.plot([0, 1], [0, 1], label='Random', linestyle='--')\n",
    "    plt.xlabel('FPR')\n",
    "    plt.ylabel('TPR')\n",
    "    plt.legend()\n",
    "    \n",
    "def compute_auc_for_numerical_feature(df, y, feature_name):\n",
    "    X = df[feature_name]\n",
    "    fpr, tpr, thresholds = roc_curve(y, X)\n",
    "    auc_value = auc(fpr, tpr)\n",
    "    if auc_value < 0.5:\n",
    "        new_fpr, new_tpr, thresholds = roc_curve(y, -X)\n",
    "        auc_value = auc(new_fpr, new_tpr)\n",
    "\n",
    "    auc_value = round(auc_value, 4)\n",
    "    plot_roc_for_numerical_feature(fpr, tpr, feature_name, auc_value)\n",
    "\n",
    "    return auc_value\n",
    "        \n",
    "        \n",
    "        \n"
   ]
  },
  {
   "cell_type": "code",
   "execution_count": 14,
   "id": "beec7260-531f-4034-a31c-4207b5cac2f3",
   "metadata": {},
   "outputs": [
    {
     "data": {
      "image/png": "[encoded data removed]",
      "text/plain": [
       "<Figure size 500x500 with 1 Axes>"
      ]
     },
     "metadata": {},
     "output_type": "display_data"
    },
    {
     "data": {
      "image/png": "[encoded data removed]",
      "text/plain": [
       "<Figure size 500x500 with 1 Axes>"
      ]
     },
     "metadata": {},
     "output_type": "display_data"
    },
    {
     "data": {
      "image/png": "[encoded data removed]",
      "text/plain": [
       "<Figure size 500x500 with 1 Axes>"
      ]
     },
     "metadata": {},
     "output_type": "display_data"
    },
    {
     "data": {
      "image/png": "[encoded data removed]",
      "text/plain": [
       "<Figure size 500x500 with 1 Axes>"
      ]
     },
     "metadata": {},
     "output_type": "display_data"
    }
   ],
   "source": [
    "auc_values = {}\n",
    "for feature in numerical_features:\n",
    "    auc_val = compute_auc_for_numerical_feature(data[\"train\"][\"X\"], data[\"train\"][\"y\"], feature)\n",
    "    auc_values[feature] = auc_val"
   ]
  },
  {
   "cell_type": "code",
   "execution_count": 15,
   "id": "25ce9f5a-e2fd-4354-8093-caa8d61fabf6",
   "metadata": {},
   "outputs": [
    {
     "name": "stdout",
     "output_type": "stream",
     "text": [
      "{'city_mpg': 0.6734,\n",
      " 'engine_cylinders': 0.7661,\n",
      " 'engine_hp': 0.9171,\n",
      " 'highway_mpg': 0.6331}\n",
      "feature with max auc = engine_hp\n"
     ]
    }
   ],
   "source": [
    "pprint.pprint(auc_values)\n",
    "print(f\"feature with max auc = {max(auc_values, key = lambda x: auc_values[x])}\")"
   ]
  },
  {
   "cell_type": "markdown",
   "id": "606da6e7-f610-4421-9007-aef5de5d5a98",
   "metadata": {},
   "source": [
    "### Question 2: Training the model\n",
    "\n",
    "Apply one-hot-encoding using `DictVectorizer` and train the logistic regression with these parameters:\n",
    "\n",
    "```python\n",
    "LogisticRegression(solver='liblinear', C=1.0, max_iter=1000)\n",
    "```\n",
    "\n",
    "What's the AUC of this model on the validation dataset? (round to 3 digits)\n",
    "\n",
    "- 0.678\n",
    "- 0.779\n",
    "- 0.878\n",
    "- 0.979"
   ]
  },
  {
   "cell_type": "code",
   "execution_count": 16,
   "id": "71ac2097-59cd-4af7-9d3b-8da5dc40fe5d",
   "metadata": {},
   "outputs": [],
   "source": [
    "dv = DictVectorizer(sparse=False)\n",
    "train_dict = data[\"train\"][\"X\"].to_dict(orient=\"records\")\n",
    "X_train = dv.fit_transform(train_dict)"
   ]
  },
  {
   "cell_type": "code",
   "execution_count": 17,
   "id": "82cb215d-c0dc-4f55-bc8a-9789bf2b8720",
   "metadata": {},
   "outputs": [
    {
     "data": {
      "text/plain": [
       "[{'make': 'Toyota',\n",
       "  'model': 'Highlander Hybrid',\n",
       "  'year': 2016,\n",
       "  'engine_hp': 280.0,\n",
       "  'engine_cylinders': 6.0,\n",
       "  'transmission_type': 'AUTOMATIC',\n",
       "  'vehicle_style': '4dr SUV',\n",
       "  'highway_mpg': 28,\n",
       "  'city_mpg': 27},\n",
       " {'make': 'Chevrolet',\n",
       "  'model': 'Impala Limited',\n",
       "  'year': 2014,\n",
       "  'engine_hp': 300.0,\n",
       "  'engine_cylinders': 6.0,\n",
       "  'transmission_type': 'AUTOMATIC',\n",
       "  'vehicle_style': 'Sedan',\n",
       "  'highway_mpg': 30,\n",
       "  'city_mpg': 18}]"
      ]
     },
     "execution_count": 17,
     "metadata": {},
     "output_type": "execute_result"
    }
   ],
   "source": [
    "train_dict[:2]"
   ]
  },
  {
   "cell_type": "code",
   "execution_count": 18,
   "id": "2e7e022c-6823-4d9f-9e8c-09087e9e008c",
   "metadata": {},
   "outputs": [
    {
     "data": {
      "text/plain": [
       "array([[2.700e+01, 6.000e+00, 2.800e+02, ..., 0.000e+00, 0.000e+00,\n",
       "        2.016e+03],\n",
       "       [1.800e+01, 6.000e+00, 3.000e+02, ..., 1.000e+00, 0.000e+00,\n",
       "        2.014e+03]])"
      ]
     },
     "execution_count": 18,
     "metadata": {},
     "output_type": "execute_result"
    }
   ],
   "source": [
    "X_train[0:2,:]"
   ]
  },
  {
   "cell_type": "code",
   "execution_count": 19,
   "id": "2e402ddf-fb04-4650-8d1d-481d0cbff712",
   "metadata": {},
   "outputs": [
    {
     "data": {
      "text/plain": [
       "[{'city_mpg': 27.0,\n",
       "  'engine_cylinders': 6.0,\n",
       "  'engine_hp': 280.0,\n",
       "  'highway_mpg': 28.0,\n",
       "  'make=Toyota': 1.0,\n",
       "  'model=Highlander Hybrid': 1.0,\n",
       "  'transmission_type=AUTOMATIC': 1.0,\n",
       "  'vehicle_style=4dr SUV': 1.0,\n",
       "  'year': 2016.0},\n",
       " {'city_mpg': 18.0,\n",
       "  'engine_cylinders': 6.0,\n",
       "  'engine_hp': 300.0,\n",
       "  'highway_mpg': 30.0,\n",
       "  'make=Chevrolet': 1.0,\n",
       "  'model=Impala Limited': 1.0,\n",
       "  'transmission_type=AUTOMATIC': 1.0,\n",
       "  'vehicle_style=Sedan': 1.0,\n",
       "  'year': 2014.0}]"
      ]
     },
     "execution_count": 19,
     "metadata": {},
     "output_type": "execute_result"
    }
   ],
   "source": [
    "dv.inverse_transform(X_train[0:2,:])"
   ]
  },
  {
   "cell_type": "code",
   "execution_count": 20,
   "id": "7022da7d-fcc9-412a-89c6-3ee81311c52c",
   "metadata": {},
   "outputs": [
    {
     "data": {
      "text/html": [
       "<style>#sk-container-id-1 {color: black;}#sk-container-id-1 pre{padding: 0;}#sk-container-id-1 div.sk-toggleable {background-color: white;}#sk-container-id-1 label.sk-toggleable__label {cursor: pointer;display: block;width: 100%;margin-bottom: 0;padding: 0.3em;box-sizing: border-box;text-align: center;}#sk-container-id-1 label.sk-toggleable__label-arrow:before {content: \"▸\";float: left;margin-right: 0.25em;color: #696969;}#sk-container-id-1 label.sk-toggleable__label-arrow:hover:before {color: black;}#sk-container-id-1 div.sk-estimator:hover label.sk-toggleable__label-arrow:before {color: black;}#sk-container-id-1 div.sk-toggleable__content {max-height: 0;max-width: 0;overflow: hidden;text-align: left;background-color: #f0f8ff;}#sk-container-id-1 div.sk-toggleable__content pre {margin: 0.2em;color: black;border-radius: 0.25em;background-color: #f0f8ff;}#sk-container-id-1 input.sk-toggleable__control:checked~div.sk-toggleable__content {max-height: 200px;max-width: 100%;overflow: auto;}#sk-container-id-1 input.sk-toggleable__control:checked~label.sk-toggleable__label-arrow:before {content: \"▾\";}#sk-container-id-1 div.sk-estimator input.sk-toggleable__control:checked~label.sk-toggleable__label {background-color: #d4ebff;}#sk-container-id-1 div.sk-label input.sk-toggleable__control:checked~label.sk-toggleable__label {background-color: #d4ebff;}#sk-container-id-1 input.sk-hidden--visually {border: 0;clip: rect(1px 1px 1px 1px);clip: rect(1px, 1px, 1px, 1px);height: 1px;margin: -1px;overflow: hidden;padding: 0;position: absolute;width: 1px;}#sk-container-id-1 div.sk-estimator {font-family: monospace;background-color: #f0f8ff;border: 1px dotted black;border-radius: 0.25em;box-sizing: border-box;margin-bottom: 0.5em;}#sk-container-id-1 div.sk-estimator:hover {background-color: #d4ebff;}#sk-container-id-1 div.sk-parallel-item::after {content: \"\";width: 100%;border-bottom: 1px solid gray;flex-grow: 1;}#sk-container-id-1 div.sk-label:hover label.sk-toggleable__label {background-color: #d4ebff;}#sk-container-id-1 div.sk-serial::before {content: \"\";position: absolute;border-left: 1px solid gray;box-sizing: border-box;top: 0;bottom: 0;left: 50%;z-index: 0;}#sk-container-id-1 div.sk-serial {display: flex;flex-direction: column;align-items: center;background-color: white;padding-right: 0.2em;padding-left: 0.2em;position: relative;}#sk-container-id-1 div.sk-item {position: relative;z-index: 1;}#sk-container-id-1 div.sk-parallel {display: flex;align-items: stretch;justify-content: center;background-color: white;position: relative;}#sk-container-id-1 div.sk-item::before, #sk-container-id-1 div.sk-parallel-item::before {content: \"\";position: absolute;border-left: 1px solid gray;box-sizing: border-box;top: 0;bottom: 0;left: 50%;z-index: -1;}#sk-container-id-1 div.sk-parallel-item {display: flex;flex-direction: column;z-index: 1;position: relative;background-color: white;}#sk-container-id-1 div.sk-parallel-item:first-child::after {align-self: flex-end;width: 50%;}#sk-container-id-1 div.sk-parallel-item:last-child::after {align-self: flex-start;width: 50%;}#sk-container-id-1 div.sk-parallel-item:only-child::after {width: 0;}#sk-container-id-1 div.sk-dashed-wrapped {border: 1px dashed gray;margin: 0 0.4em 0.5em 0.4em;box-sizing: border-box;padding-bottom: 0.4em;background-color: white;}#sk-container-id-1 div.sk-label label {font-family: monospace;font-weight: bold;display: inline-block;line-height: 1.2em;}#sk-container-id-1 div.sk-label-container {text-align: center;}#sk-container-id-1 div.sk-container {/* jupyter's `normalize.less` sets `[hidden] { display: none; }` but bootstrap.min.css set `[hidden] { display: none !important; }` so we also need the `!important` here to be able to override the default hidden behavior on the sphinx rendered scikit-learn.org. See: https://github.com/scikit-learn/scikit-learn/issues/21755 */display: inline-block !important;position: relative;}#sk-container-id-1 div.sk-text-repr-fallback {display: none;}</style><div id=\"sk-container-id-1\" class=\"sk-top-container\"><div class=\"sk-text-repr-fallback\"><pre>LogisticRegression(max_iter=1000, solver=&#x27;liblinear&#x27;)</pre><b>In a Jupyter environment, please rerun this cell to show the HTML representation or trust the notebook. <br />On GitHub, the HTML representation is unable to render, please try loading this page with nbviewer.org.</b></div><div class=\"sk-container\" hidden><div class=\"sk-item\"><div class=\"sk-estimator sk-toggleable\"><input class=\"sk-toggleable__control sk-hidden--visually\" id=\"sk-estimator-id-1\" type=\"checkbox\" checked><label for=\"sk-estimator-id-1\" class=\"sk-toggleable__label sk-toggleable__label-arrow\">LogisticRegression</label><div class=\"sk-toggleable__content\"><pre>LogisticRegression(max_iter=1000, solver=&#x27;liblinear&#x27;)</pre></div></div></div></div></div>"
      ],
      "text/plain": [
       "LogisticRegression(max_iter=1000, solver='liblinear')"
      ]
     },
     "execution_count": 20,
     "metadata": {},
     "output_type": "execute_result"
    }
   ],
   "source": [
    "model = LogisticRegression(solver='liblinear', C=1.0, max_iter=1000)\n",
    "model.fit(X_train, data[\"train\"][\"y\"])"
   ]
  },
  {
   "cell_type": "code",
   "execution_count": 21,
   "id": "d45d6ea4-27e0-48e1-841f-30f2bf85d83e",
   "metadata": {},
   "outputs": [],
   "source": [
    "val_dict = data[\"val\"][\"X\"].to_dict(orient=\"records\")\n",
    "X_val = dv.transform(val_dict)\n",
    "y_pred_prob = model.predict_proba(X_val)[:, 1]"
   ]
  },
  {
   "cell_type": "code",
   "execution_count": 22,
   "id": "1cd799cd-a83d-4028-9b3b-fe753a105af4",
   "metadata": {},
   "outputs": [
    {
     "name": "stdout",
     "output_type": "stream",
     "text": [
      "0.979\n"
     ]
    }
   ],
   "source": [
    "fpr, tpr, thresholds = roc_curve(data[\"val\"][\"y\"], y_pred_prob)\n",
    "auc_value = auc(fpr, tpr)\n",
    "print(round(auc_value,3))"
   ]
  },
  {
   "cell_type": "markdown",
   "id": "6db5974a-b2ae-4511-b6e0-05b6276c769b",
   "metadata": {},
   "source": [
    "### Question 3: Precision and Recall\n",
    "\n",
    "Now let's compute precision and recall for our model.\n",
    "\n",
    "* Evaluate the model on all thresholds from 0.0 to 1.0 with step 0.01\n",
    "* For each threshold, compute precision and recall\n",
    "* Plot them\n",
    "\n",
    "At which threshold precision and recall curves intersect?\n",
    "\n",
    "* 0.28\n",
    "* 0.48\n",
    "* 0.68\n",
    "* 0.88"
   ]
  },
  {
   "cell_type": "code",
   "execution_count": 23,
   "id": "1f2dd844-f311-40ee-b1bb-42dfe20ea895",
   "metadata": {},
   "outputs": [],
   "source": [
    "thresholds = np.linspace(0, 1, 101)\n",
    "\n",
    "\n",
    "precision_scores = []\n",
    "recall_scores = []\n",
    "\n",
    "\n",
    "\n",
    "for t in thresholds:\n",
    "    #y_pred_prob = model.predict_proba(X_val)[:, 1] >= t\n",
    "    precision_scores.append(precision_score(data[\"val\"][\"y\"], y_pred_prob >= t, zero_division = 0))\n",
    "    recall_scores.append(recall_score(data[\"val\"][\"y\"], y_pred_prob >= t, zero_division=0))"
   ]
  },
  {
   "cell_type": "code",
   "execution_count": 24,
   "id": "97eeaffa-49cd-4e15-8476-2cc15da8bfba",
   "metadata": {},
   "outputs": [
    {
     "data": {
      "image/png": "[encoded data removed]",
      "text/plain": [
       "<Figure size 500x500 with 1 Axes>"
      ]
     },
     "metadata": {},
     "output_type": "display_data"
    }
   ],
   "source": [
    "plt.figure(figsize=(5, 5))\n",
    "plt.plot(thresholds, precision_scores, label=f\"precision\", color=\"blue\")\n",
    "plt.plot(thresholds, recall_scores, label=f\"recall\", color=\"red\")\n",
    "plt.xlabel('thresholds')\n",
    "plt.ylabel('score')\n",
    "plt.legend();"
   ]
  },
  {
   "cell_type": "code",
   "execution_count": 25,
   "id": "4f63252c-b95c-493d-98f6-fa5ef0da13f9",
   "metadata": {},
   "outputs": [
    {
     "data": {
      "text/plain": [
       "[(0.8765243902439024, 0.8792048929663608, 0.47000000000000003),\n",
       " (0.0, 0.0, 1.0)]"
      ]
     },
     "execution_count": 25,
     "metadata": {},
     "output_type": "execute_result"
    }
   ],
   "source": [
    "[(p, r, t) for (p,r,t) in zip(precision_scores, recall_scores, thresholds) if round(p,2) == round(r,2)]"
   ]
  },
  {
   "cell_type": "markdown",
   "id": "4856ec74-4667-4b3e-a2d7-84b3d5fca733",
   "metadata": {},
   "source": [
    "### Question 4: F1 score\n",
    "\n",
    "Precision and recall are conflicting - when one grows, the other goes down. That's why they are often combined into the F1 score - a metrics that takes into account both\n",
    "\n",
    "This is the formula for computing F1:\n",
    "\n",
    "$$F_1 = 2 \\cdot \\cfrac{P \\cdot R}{P + R}$$\n",
    "\n",
    "Where $P$ is precision and $R$ is recall.\n",
    "\n",
    "Let's compute F1 for all thresholds from 0.0 to 1.0 with increment 0.01\n",
    "\n",
    "At which threshold F1 is maximal?\n",
    "\n",
    "- 0.12\n",
    "- 0.32\n",
    "- 0.52\n",
    "- 0.72"
   ]
  },
  {
   "cell_type": "code",
   "execution_count": 26,
   "id": "821ea518-41df-47ea-8e4c-d6968086f5f0",
   "metadata": {},
   "outputs": [],
   "source": [
    "p = np.array(precision_scores)\n",
    "r = np.array(recall_scores)\n",
    "#f1_scores = 2*p*r/(p+r)\n",
    "f1_scores = np.divide(2*p*r, p+r, out=np.zeros_like(2*p*r), where=p+r!=0)"
   ]
  },
  {
   "cell_type": "code",
   "execution_count": 27,
   "id": "72b6fc67-ee1d-4265-b394-73c2583322a1",
   "metadata": {},
   "outputs": [
    {
     "data": {
      "text/plain": [
       "array([0.43068818, 0.63056093, 0.67182663, 0.70037655, 0.72504183,\n",
       "       0.73654391, 0.75043428, 0.75967175, 0.77392344, 0.78398058,\n",
       "       0.78921569, 0.79850746, 0.80805538, 0.81349459, 0.81981982,\n",
       "       0.82885246, 0.83156499, 0.83355526, 0.83534137, 0.83646113,\n",
       "       0.84303112, 0.84453496, 0.8489011 , 0.85123967, 0.85298197,\n",
       "       0.85634589, 0.85874912, 0.85855032, 0.86138614, 0.86321758,\n",
       "       0.86324786, 0.8649035 , 0.86657102, 0.86681066, 0.87082729,\n",
       "       0.87070855, 0.8730741 , 0.87205882, 0.87270052, 0.87149188,\n",
       "       0.87407407, 0.8764881 , 0.87658938, 0.87687688, 0.87631976,\n",
       "       0.87708649, 0.87756654, 0.8778626 , 0.87442573, 0.87509579,\n",
       "       0.87895143, 0.87645688, 0.88037529, 0.88018794, 0.87912088,\n",
       "       0.87893082, 0.87716535, 0.87608524, 0.875     , 0.87460317,\n",
       "       0.87649402, 0.86844229, 0.86871961, 0.86758733, 0.86715566,\n",
       "       0.86345053, 0.86206897, 0.86090535, 0.85643154, 0.85331098,\n",
       "       0.85042017, 0.84699915, 0.84255319, 0.84057971, 0.84030743,\n",
       "       0.83476764, 0.83347714, 0.82740676, 0.82127289, 0.82024433,\n",
       "       0.81474978, 0.81172291, 0.81066667, 0.7981982 , 0.79090909,\n",
       "       0.78196872, 0.76607642, 0.74643875, 0.74045802, 0.73583093,\n",
       "       0.72797677, 0.72178988, 0.69772052, 0.6740666 , 0.6557377 ,\n",
       "       0.62761506, 0.60042735, 0.57608696, 0.53363229, 0.47196262,\n",
       "       0.        ])"
      ]
     },
     "execution_count": 27,
     "metadata": {},
     "output_type": "execute_result"
    }
   ],
   "source": [
    "f1_scores"
   ]
  },
  {
   "cell_type": "code",
   "execution_count": 28,
   "id": "5429fa6b-9dbc-4619-875f-8849d34d84d8",
   "metadata": {},
   "outputs": [
    {
     "data": {
      "image/png": "[encoded data removed]",
      "text/plain": [
       "<Figure size 500x500 with 1 Axes>"
      ]
     },
     "metadata": {},
     "output_type": "display_data"
    }
   ],
   "source": [
    "plt.figure(figsize=(5, 5))\n",
    "plt.plot(thresholds, f1_scores, label=f\"F1\", color=\"blue\")\n",
    "plt.xlabel('thresholds')\n",
    "plt.ylabel('F1 score')\n",
    "plt.legend();"
   ]
  },
  {
   "cell_type": "code",
   "execution_count": 29,
   "id": "8ad9a8f3-47c4-4a3a-b066-0925ef6dffd2",
   "metadata": {},
   "outputs": [
    {
     "data": {
      "text/plain": [
       "0.52"
      ]
     },
     "execution_count": 29,
     "metadata": {},
     "output_type": "execute_result"
    }
   ],
   "source": [
    "thresholds[np.argmax(f1_scores)]"
   ]
  },
  {
   "cell_type": "markdown",
   "id": "03b4761f-2534-496d-9abd-8fcd7aff03fd",
   "metadata": {},
   "source": [
    "### Question 5: 5-Fold CV\n",
    "\n",
    "\n",
    "Use the `KFold` class from Scikit-Learn to evaluate our model on 5 different folds:\n",
    "\n",
    "```\n",
    "KFold(n_splits=5, shuffle=True, random_state=1)\n",
    "```\n",
    "\n",
    "* Iterate over different folds of `df_full_train`\n",
    "* Split the data into train and validation\n",
    "* Train the model on train with these parameters: `LogisticRegression(solver='liblinear', C=1.0, max_iter=1000)`\n",
    "* Use AUC to evaluate the model on validation\n",
    "\n",
    "How large is standard devidation of the scores across different folds?\n",
    "\n",
    "- 0.003\n",
    "- 0.030\n",
    "- 0.090\n",
    "- 0.140"
   ]
  },
  {
   "cell_type": "code",
   "execution_count": 30,
   "id": "a514cc8c-8a32-447c-94d5-b0ba219aba53",
   "metadata": {},
   "outputs": [],
   "source": [
    "def train(df, y, C):\n",
    "    dv = DictVectorizer(sparse=False)\n",
    "    train_dict = df.to_dict(orient=\"records\")\n",
    "    X_train = dv.fit_transform(train_dict)\n",
    "    model = LogisticRegression(solver='liblinear', C=C, max_iter=1000)\n",
    "    model.fit(X_train, y)\n",
    "    return dv, model\n",
    "\n",
    "def predict(df, dv, model):\n",
    "    data_dict = df.to_dict(orient=\"records\")\n",
    "    X = dv.transform(data_dict)\n",
    "    y_pred_prob = model.predict_proba(X)[:, 1]\n",
    "    return y_pred_prob\n",
    "\n",
    "def get_auc_score(y, y_pred_prob):\n",
    "    fpr, tpr, thresholds = roc_curve(y, y_pred_prob)\n",
    "    auc_score = auc(fpr, tpr)\n",
    "    return round(auc_score,3)"
   ]
  },
  {
   "cell_type": "code",
   "execution_count": 31,
   "id": "8daabde4-b0b6-400b-ae48-002e4efd4062",
   "metadata": {},
   "outputs": [],
   "source": [
    "def get_auc_scores_across_folds(n_splits, C):\n",
    "    auc_scores = []\n",
    "    kfold = KFold(n_splits=n_splits, shuffle=True, random_state=1)\n",
    "    for train_idx, val_idx in kfold.split(data[\"full_train\"][\"X\"]):\n",
    "        df_train = data[\"full_train\"][\"X\"].iloc[train_idx]\n",
    "        df_val = data[\"full_train\"][\"X\"].iloc[val_idx]\n",
    "    \n",
    "        #print(len(train_idx), len(val_idx))\n",
    "        #print(df_train.shape, df_val.shape)\n",
    "        \n",
    "        y_train = data[\"full_train\"][\"y\"][train_idx]\n",
    "        y_val = data[\"full_train\"][\"y\"][val_idx]\n",
    "    \n",
    "        #print(y_train.shape, y_val.shape)\n",
    "    \n",
    "        dv, model = train(df_train, y_train, C)\n",
    "        y_pred_prob = predict(df_val, dv, model)\n",
    "        auc_score = get_auc_score(y_val, y_pred_prob)\n",
    "        auc_scores.append(auc_score)\n",
    "    return auc_scores"
   ]
  },
  {
   "cell_type": "code",
   "execution_count": 32,
   "id": "41dfde64-99b6-4539-8a5d-d379131bf0d2",
   "metadata": {},
   "outputs": [
    {
     "name": "stdout",
     "output_type": "stream",
     "text": [
      "AUC scores across folds = [0.978, 0.98, 0.978, 0.98, 0.986]\n",
      "standard deviation of AUC scores across folds = 0.003\n"
     ]
    }
   ],
   "source": [
    "auc_scores = get_auc_scores_across_folds(n_splits=5, C=1.0)\n",
    "print(f\"AUC scores across folds = {auc_scores}\")\n",
    "print(f\"standard deviation of AUC scores across folds = {round(np.std(auc_scores),3)}\")"
   ]
  },
  {
   "cell_type": "markdown",
   "id": "58b1d231-fe1c-4559-b715-8507480e3427",
   "metadata": {},
   "source": [
    "\n",
    "\n",
    "\n",
    "\n",
    "\n",
    "\n",
    "\n",
    "\n",
    "\n",
    "### Question 6: Hyperparemeter Tuning\n",
    "\n",
    "Now let's use 5-Fold cross-validation to find the best parameter `C`\n",
    "\n",
    "* Iterate over the following `C` values: `[0.01, 0.1, 0.5, 10]`\n",
    "* Initialize `KFold` with the same parameters as previously\n",
    "* Use these parametes for the model: `LogisticRegression(solver='liblinear', C=C, max_iter=1000)`\n",
    "* Compute the mean score as well as the std (round the mean and std to 3 decimal digits)\n",
    "\n",
    "Which `C` leads to the best mean score?\n",
    "\n",
    "- 0.01\n",
    "- 0.1\n",
    "- 0.5\n",
    "- 10\n",
    "\n",
    "If you have ties, select the score with the lowest std. If you still have ties, select the smallest `C`.\n",
    "\n",
    "\n"
   ]
  },
  {
   "cell_type": "code",
   "execution_count": null,
   "id": "f8d0e61d-d3c1-4a36-bb8e-56b86a3c15f0",
   "metadata": {},
   "outputs": [],
   "source": [
    "hyperparameter_scores = {}\n",
    "for C in [0.01, 0.1, 0.5, 10]:\n",
    "    auc_scores = np.array(get_auc_scores_across_folds(n_splits=5, C=C))\n",
    "    hyperparameter_scores[C] = {\"mean\": round(auc_scores.mean(),3), \"std\": round(np.std(auc_scores),3), \"raw\": auc_scores}\n",
    "\n",
    "pprint.pprint(hyperparameter_scores)\n",
    "    "
   ]
  },
  {
   "cell_type": "code",
   "execution_count": null,
   "id": "46b93175-ac88-4f9b-a6fe-454a11594492",
   "metadata": {},
   "outputs": [],
   "source": [
    "max(hyperparameter_scores, key = lambda C: (hyperparameter_scores[C][\"mean\"], -hyperparameter_scores[C][\"std\"], -C))"
   ]
  },
  {
   "cell_type": "code",
   "execution_count": null,
   "id": "560f1a09-dab5-4e8b-b547-cc4d46f58bf4",
   "metadata": {},
   "outputs": [],
   "source": []
  },
  {
   "cell_type": "code",
   "execution_count": null,
   "id": "7e638c7c-04d4-44c7-857b-a4b16abae9bf",
   "metadata": {},
   "outputs": [],
   "source": []
  }
 ],
 "metadata": {
  "kernelspec": {
   "display_name": "Python 3 (ipykernel)",
   "language": "python",
   "name": "python3"
  },
  "language_info": {
   "codemirror_mode": {
    "name": "ipython",
    "version": 3
   },
   "file_extension": ".py",
   "mimetype": "text/x-python",
   "name": "python",
   "nbconvert_exporter": "python",
   "pygments_lexer": "ipython3",
   "version": "3.11.4"
  }
 },
 "nbformat": 4,
 "nbformat_minor": 5
}
