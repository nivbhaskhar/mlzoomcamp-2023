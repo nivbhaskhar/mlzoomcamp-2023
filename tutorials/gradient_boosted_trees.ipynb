{
 "cells": [
  {
   "cell_type": "code",
   "execution_count": 35,
   "id": "c0c1889a-b9c9-490a-9866-2be11851b3eb",
   "metadata": {},
   "outputs": [],
   "source": [
    "import math\n",
    "import pandas as pd\n",
    "import numpy as np\n",
    "from sklearn.model_selection import train_test_split, GridSearchCV\n",
    "from sklearn.tree import DecisionTreeClassifier, export_text\n",
    "from sklearn.feature_extraction import DictVectorizer\n",
    "from sklearn.metrics import roc_auc_score\n",
    "from sklearn.ensemble import RandomForestClassifier\n",
    "from sklearn.inspection import permutation_importance\n",
    "import xgboost as xgb"
   ]
  },
  {
   "cell_type": "code",
   "execution_count": 2,
   "id": "4af989f1-1440-4d3e-b667-e398c1fdc403",
   "metadata": {},
   "outputs": [],
   "source": [
    "from IPython.display import display\n",
    "import graphviz \n",
    "from sklearn.tree import export_graphviz\n",
    "import seaborn as sns\n",
    "from matplotlib import pyplot as plt"
   ]
  },
  {
   "cell_type": "code",
   "execution_count": 3,
   "id": "2bf932f7-8e3f-4691-a6df-d589a81d8a6c",
   "metadata": {},
   "outputs": [],
   "source": [
    "import time"
   ]
  },
  {
   "cell_type": "code",
   "execution_count": 4,
   "id": "0ceb0675-7956-4634-a387-2b0726536e55",
   "metadata": {},
   "outputs": [],
   "source": [
    "#for i in range(10):\n",
    "#    display(i)"
   ]
  },
  {
   "cell_type": "markdown",
   "id": "560f7a89-1891-4fee-a709-bf9127207a7b",
   "metadata": {},
   "source": [
    "# Extracting the data"
   ]
  },
  {
   "cell_type": "code",
   "execution_count": 4,
   "id": "85caed5c-f402-4ad2-beea-798132fc9d3e",
   "metadata": {},
   "outputs": [
    {
     "name": "stdout",
     "output_type": "stream",
     "text": [
      "  % Total    % Received % Xferd  Average Speed   Time    Time     Time  Current\n",
      "                                 Dload  Upload   Total   Spent    Left  Speed\n",
      "100  178k  100  178k    0     0   671k      0 --:--:-- --:--:-- --:--:--  688k\n"
     ]
    }
   ],
   "source": [
    "!curl https://raw.githubusercontent.com/alexeygrigorev/mlbookcamp-code/master/chapter-06-trees/CreditScoring.csv >CreditScoring.csv"
   ]
  },
  {
   "cell_type": "code",
   "execution_count": 5,
   "id": "e175cbc4-2696-418e-a108-29685703a7dc",
   "metadata": {},
   "outputs": [
    {
     "name": "stdout",
     "output_type": "stream",
     "text": [
      "\"Status\",\"Seniority\",\"Home\",\"Time\",\"Age\",\"Marital\",\"Records\",\"Job\",\"Expenses\",\"Income\",\"Assets\",\"Debt\",\"Amount\",\"Price\"\n",
      "1,9,1,60,30,2,1,3,73,129,0,0,800,846\n",
      "1,17,1,60,58,3,1,1,48,131,0,0,1000,1658\n",
      "2,10,2,36,46,2,2,3,90,200,3000,0,2000,2985\n",
      "1,0,1,60,24,1,1,1,63,182,2500,0,900,1325\n",
      "1,0,1,36,26,1,1,1,46,107,0,0,310,910\n",
      "1,1,2,60,36,2,1,1,75,214,3500,0,650,1645\n",
      "1,29,2,60,44,2,1,1,75,125,10000,0,1600,1800\n",
      "1,9,5,12,27,1,1,1,35,80,0,0,200,1093\n",
      "1,0,2,60,32,2,1,3,90,107,15000,0,1200,1957\n"
     ]
    }
   ],
   "source": [
    "!head CreditScoring.csv"
   ]
  },
  {
   "cell_type": "markdown",
   "id": "915ae77b-a3e2-4d05-82a8-6e5899b8e1e1",
   "metadata": {},
   "source": [
    "# Loading and transforming the data"
   ]
  },
  {
   "cell_type": "code",
   "execution_count": 6,
   "id": "53924997-71c2-454a-96c6-36f0874a04dd",
   "metadata": {},
   "outputs": [],
   "source": [
    "df = pd.read_csv(\"CreditScoring.csv\")"
   ]
  },
  {
   "cell_type": "code",
   "execution_count": 7,
   "id": "568afef1-fde1-4fd6-8238-025c0a6092b8",
   "metadata": {},
   "outputs": [
    {
     "data": {
      "text/plain": [
       "(4455, 14)"
      ]
     },
     "execution_count": 7,
     "metadata": {},
     "output_type": "execute_result"
    }
   ],
   "source": [
    "df.shape"
   ]
  },
  {
   "cell_type": "code",
   "execution_count": 7,
   "id": "9d1326f7-a2cc-4765-bd8a-df8b7a3357f8",
   "metadata": {},
   "outputs": [
    {
     "data": {
      "text/plain": [
       "Index(['Status', 'Seniority', 'Home', 'Time', 'Age', 'Marital', 'Records',\n",
       "       'Job', 'Expenses', 'Income', 'Assets', 'Debt', 'Amount', 'Price'],\n",
       "      dtype='object')"
      ]
     },
     "execution_count": 7,
     "metadata": {},
     "output_type": "execute_result"
    }
   ],
   "source": [
    "df.columns"
   ]
  },
  {
   "cell_type": "code",
   "execution_count": 8,
   "id": "27447589-7c2e-4648-8c0d-4f2a0ad84c8b",
   "metadata": {},
   "outputs": [],
   "source": [
    "# Lower case column names\n",
    "df.columns = df.columns.str.lower()"
   ]
  },
  {
   "cell_type": "code",
   "execution_count": 9,
   "id": "68996965-9cf0-440b-9074-6a19feafeaaf",
   "metadata": {},
   "outputs": [
    {
     "data": {
      "text/html": [
       "<div>\n",
       "<style scoped>\n",
       "    .dataframe tbody tr th:only-of-type {\n",
       "        vertical-align: middle;\n",
       "    }\n",
       "\n",
       "    .dataframe tbody tr th {\n",
       "        vertical-align: top;\n",
       "    }\n",
       "\n",
       "    .dataframe thead th {\n",
       "        text-align: right;\n",
       "    }\n",
       "</style>\n",
       "<table border=\"1\" class=\"dataframe\">\n",
       "  <thead>\n",
       "    <tr style=\"text-align: right;\">\n",
       "      <th></th>\n",
       "      <th>status</th>\n",
       "      <th>seniority</th>\n",
       "      <th>home</th>\n",
       "      <th>time</th>\n",
       "      <th>age</th>\n",
       "      <th>marital</th>\n",
       "      <th>records</th>\n",
       "      <th>job</th>\n",
       "      <th>expenses</th>\n",
       "      <th>income</th>\n",
       "      <th>assets</th>\n",
       "      <th>debt</th>\n",
       "      <th>amount</th>\n",
       "      <th>price</th>\n",
       "    </tr>\n",
       "  </thead>\n",
       "  <tbody>\n",
       "    <tr>\n",
       "      <th>0</th>\n",
       "      <td>1</td>\n",
       "      <td>9</td>\n",
       "      <td>1</td>\n",
       "      <td>60</td>\n",
       "      <td>30</td>\n",
       "      <td>2</td>\n",
       "      <td>1</td>\n",
       "      <td>3</td>\n",
       "      <td>73</td>\n",
       "      <td>129</td>\n",
       "      <td>0</td>\n",
       "      <td>0</td>\n",
       "      <td>800</td>\n",
       "      <td>846</td>\n",
       "    </tr>\n",
       "    <tr>\n",
       "      <th>1</th>\n",
       "      <td>1</td>\n",
       "      <td>17</td>\n",
       "      <td>1</td>\n",
       "      <td>60</td>\n",
       "      <td>58</td>\n",
       "      <td>3</td>\n",
       "      <td>1</td>\n",
       "      <td>1</td>\n",
       "      <td>48</td>\n",
       "      <td>131</td>\n",
       "      <td>0</td>\n",
       "      <td>0</td>\n",
       "      <td>1000</td>\n",
       "      <td>1658</td>\n",
       "    </tr>\n",
       "    <tr>\n",
       "      <th>2</th>\n",
       "      <td>2</td>\n",
       "      <td>10</td>\n",
       "      <td>2</td>\n",
       "      <td>36</td>\n",
       "      <td>46</td>\n",
       "      <td>2</td>\n",
       "      <td>2</td>\n",
       "      <td>3</td>\n",
       "      <td>90</td>\n",
       "      <td>200</td>\n",
       "      <td>3000</td>\n",
       "      <td>0</td>\n",
       "      <td>2000</td>\n",
       "      <td>2985</td>\n",
       "    </tr>\n",
       "    <tr>\n",
       "      <th>3</th>\n",
       "      <td>1</td>\n",
       "      <td>0</td>\n",
       "      <td>1</td>\n",
       "      <td>60</td>\n",
       "      <td>24</td>\n",
       "      <td>1</td>\n",
       "      <td>1</td>\n",
       "      <td>1</td>\n",
       "      <td>63</td>\n",
       "      <td>182</td>\n",
       "      <td>2500</td>\n",
       "      <td>0</td>\n",
       "      <td>900</td>\n",
       "      <td>1325</td>\n",
       "    </tr>\n",
       "    <tr>\n",
       "      <th>4</th>\n",
       "      <td>1</td>\n",
       "      <td>0</td>\n",
       "      <td>1</td>\n",
       "      <td>36</td>\n",
       "      <td>26</td>\n",
       "      <td>1</td>\n",
       "      <td>1</td>\n",
       "      <td>1</td>\n",
       "      <td>46</td>\n",
       "      <td>107</td>\n",
       "      <td>0</td>\n",
       "      <td>0</td>\n",
       "      <td>310</td>\n",
       "      <td>910</td>\n",
       "    </tr>\n",
       "  </tbody>\n",
       "</table>\n",
       "</div>"
      ],
      "text/plain": [
       "   status  seniority  home  time  age  marital  records  job  expenses  \\\n",
       "0       1          9     1    60   30        2        1    3        73   \n",
       "1       1         17     1    60   58        3        1    1        48   \n",
       "2       2         10     2    36   46        2        2    3        90   \n",
       "3       1          0     1    60   24        1        1    1        63   \n",
       "4       1          0     1    36   26        1        1    1        46   \n",
       "\n",
       "   income  assets  debt  amount  price  \n",
       "0     129       0     0     800    846  \n",
       "1     131       0     0    1000   1658  \n",
       "2     200    3000     0    2000   2985  \n",
       "3     182    2500     0     900   1325  \n",
       "4     107       0     0     310    910  "
      ]
     },
     "execution_count": 9,
     "metadata": {},
     "output_type": "execute_result"
    }
   ],
   "source": [
    "df.head()"
   ]
  },
  {
   "cell_type": "code",
   "execution_count": 10,
   "id": "78bad06e-b85c-4687-b030-a1ec294fcce2",
   "metadata": {},
   "outputs": [
    {
     "data": {
      "text/plain": [
       "status       int64\n",
       "seniority    int64\n",
       "home         int64\n",
       "time         int64\n",
       "age          int64\n",
       "marital      int64\n",
       "records      int64\n",
       "job          int64\n",
       "expenses     int64\n",
       "income       int64\n",
       "assets       int64\n",
       "debt         int64\n",
       "amount       int64\n",
       "price        int64\n",
       "dtype: object"
      ]
     },
     "execution_count": 10,
     "metadata": {},
     "output_type": "execute_result"
    }
   ],
   "source": [
    "df.dtypes"
   ]
  },
  {
   "cell_type": "markdown",
   "id": "1f450a7e-872c-4655-a44c-c123ac5ac7b8",
   "metadata": {},
   "source": [
    "Categorical variables have been label encoded in the dataset, which we want to undo"
   ]
  },
  {
   "cell_type": "raw",
   "id": "da6868ac-fa1e-4cdd-b723-a323a39705b4",
   "metadata": {},
   "source": [
    "# change factor levels (i.e. categories)\n",
    "levels(dd$Status) = c(\"good\", \"bad\")\n",
    "levels(dd$Home) = c(\"rent\", \"owner\", \"priv\", \"ignore\", \"parents\", \"other\")\n",
    "levels(dd$Marital) = c(\"single\", \"married\", \"widow\", \"separated\", \"divorced\")\n",
    "levels(dd$Records) = c(\"no_rec\", \"yes_rec\")\n",
    "levels(dd$Job) = c(\"fixed\", \"partime\", \"freelance\", \"others\")\n"
   ]
  },
  {
   "cell_type": "code",
   "execution_count": 11,
   "id": "f768759d-1448-443c-b93f-570f537f06f3",
   "metadata": {},
   "outputs": [
    {
     "name": "stdout",
     "output_type": "stream",
     "text": [
      "status\n",
      "1    3200\n",
      "2    1254\n",
      "0       1\n",
      "Name: count, dtype: int64\n",
      "****\n",
      "home\n",
      "2    2107\n",
      "1     973\n",
      "5     783\n",
      "6     319\n",
      "3     247\n",
      "4      20\n",
      "0       6\n",
      "Name: count, dtype: int64\n",
      "****\n",
      "marital\n",
      "2    3241\n",
      "1     978\n",
      "4     130\n",
      "3      67\n",
      "5      38\n",
      "0       1\n",
      "Name: count, dtype: int64\n",
      "****\n",
      "records\n",
      "1    3682\n",
      "2     773\n",
      "Name: count, dtype: int64\n",
      "****\n",
      "job\n",
      "1    2806\n",
      "3    1024\n",
      "2     452\n",
      "4     171\n",
      "0       2\n",
      "Name: count, dtype: int64\n",
      "****\n"
     ]
    }
   ],
   "source": [
    "categorical_variables = ['status', 'home', 'marital', 'records','job']\n",
    "for c in categorical_variables:\n",
    "    print(df[c].value_counts())\n",
    "    print(\"****\")\n"
   ]
  },
  {
   "cell_type": "code",
   "execution_count": 12,
   "id": "8d37a876-6cd3-4c6e-9ea1-bea2cedfb156",
   "metadata": {},
   "outputs": [],
   "source": [
    "variable_values = {}\n",
    "variable_values[\"status\"] = {0:\"unknown\", 1:\"good\", 2:\"bad\"}\n",
    "variable_values[\"home\"] = {0:\"unknown\", 1:\"rent\", 2:\"owner\", 3:\"priv\", 4:\"ignore\", 5:\"parents\", 6:\"other\"}\n",
    "variable_values[\"marital\"] = {0:\"unknown\", 1:\"single\", 2:\"married\", 3:\"widow\", 4:\"separated\", 5:\"divorced\"}\n",
    "variable_values[\"records\"] = {0:\"unknown\", 1:\"no\", 2:\"yes\"}\n",
    "variable_values[\"job\"] = {0:\"unknown\", 1:\"fixed\", 2:\"part_time\", 3:\"freelance\", 4:\"others\"}\n",
    "\n"
   ]
  },
  {
   "cell_type": "code",
   "execution_count": 13,
   "id": "242ba012-39d8-45b3-ad4e-487df58b870f",
   "metadata": {},
   "outputs": [],
   "source": [
    "for c in variable_values:\n",
    "    df[c] = df[c].map(variable_values[c])"
   ]
  },
  {
   "cell_type": "code",
   "execution_count": 14,
   "id": "6d902766-b5c2-4860-a2f1-5a34575da594",
   "metadata": {},
   "outputs": [
    {
     "data": {
      "text/html": [
       "<div>\n",
       "<style scoped>\n",
       "    .dataframe tbody tr th:only-of-type {\n",
       "        vertical-align: middle;\n",
       "    }\n",
       "\n",
       "    .dataframe tbody tr th {\n",
       "        vertical-align: top;\n",
       "    }\n",
       "\n",
       "    .dataframe thead th {\n",
       "        text-align: right;\n",
       "    }\n",
       "</style>\n",
       "<table border=\"1\" class=\"dataframe\">\n",
       "  <thead>\n",
       "    <tr style=\"text-align: right;\">\n",
       "      <th></th>\n",
       "      <th>status</th>\n",
       "      <th>seniority</th>\n",
       "      <th>home</th>\n",
       "      <th>time</th>\n",
       "      <th>age</th>\n",
       "      <th>marital</th>\n",
       "      <th>records</th>\n",
       "      <th>job</th>\n",
       "      <th>expenses</th>\n",
       "      <th>income</th>\n",
       "      <th>assets</th>\n",
       "      <th>debt</th>\n",
       "      <th>amount</th>\n",
       "      <th>price</th>\n",
       "    </tr>\n",
       "  </thead>\n",
       "  <tbody>\n",
       "    <tr>\n",
       "      <th>0</th>\n",
       "      <td>good</td>\n",
       "      <td>9</td>\n",
       "      <td>rent</td>\n",
       "      <td>60</td>\n",
       "      <td>30</td>\n",
       "      <td>married</td>\n",
       "      <td>no</td>\n",
       "      <td>freelance</td>\n",
       "      <td>73</td>\n",
       "      <td>129</td>\n",
       "      <td>0</td>\n",
       "      <td>0</td>\n",
       "      <td>800</td>\n",
       "      <td>846</td>\n",
       "    </tr>\n",
       "    <tr>\n",
       "      <th>1</th>\n",
       "      <td>good</td>\n",
       "      <td>17</td>\n",
       "      <td>rent</td>\n",
       "      <td>60</td>\n",
       "      <td>58</td>\n",
       "      <td>widow</td>\n",
       "      <td>no</td>\n",
       "      <td>fixed</td>\n",
       "      <td>48</td>\n",
       "      <td>131</td>\n",
       "      <td>0</td>\n",
       "      <td>0</td>\n",
       "      <td>1000</td>\n",
       "      <td>1658</td>\n",
       "    </tr>\n",
       "    <tr>\n",
       "      <th>2</th>\n",
       "      <td>bad</td>\n",
       "      <td>10</td>\n",
       "      <td>owner</td>\n",
       "      <td>36</td>\n",
       "      <td>46</td>\n",
       "      <td>married</td>\n",
       "      <td>yes</td>\n",
       "      <td>freelance</td>\n",
       "      <td>90</td>\n",
       "      <td>200</td>\n",
       "      <td>3000</td>\n",
       "      <td>0</td>\n",
       "      <td>2000</td>\n",
       "      <td>2985</td>\n",
       "    </tr>\n",
       "    <tr>\n",
       "      <th>3</th>\n",
       "      <td>good</td>\n",
       "      <td>0</td>\n",
       "      <td>rent</td>\n",
       "      <td>60</td>\n",
       "      <td>24</td>\n",
       "      <td>single</td>\n",
       "      <td>no</td>\n",
       "      <td>fixed</td>\n",
       "      <td>63</td>\n",
       "      <td>182</td>\n",
       "      <td>2500</td>\n",
       "      <td>0</td>\n",
       "      <td>900</td>\n",
       "      <td>1325</td>\n",
       "    </tr>\n",
       "    <tr>\n",
       "      <th>4</th>\n",
       "      <td>good</td>\n",
       "      <td>0</td>\n",
       "      <td>rent</td>\n",
       "      <td>36</td>\n",
       "      <td>26</td>\n",
       "      <td>single</td>\n",
       "      <td>no</td>\n",
       "      <td>fixed</td>\n",
       "      <td>46</td>\n",
       "      <td>107</td>\n",
       "      <td>0</td>\n",
       "      <td>0</td>\n",
       "      <td>310</td>\n",
       "      <td>910</td>\n",
       "    </tr>\n",
       "  </tbody>\n",
       "</table>\n",
       "</div>"
      ],
      "text/plain": [
       "  status  seniority   home  time  age  marital records        job  expenses  \\\n",
       "0   good          9   rent    60   30  married      no  freelance        73   \n",
       "1   good         17   rent    60   58    widow      no      fixed        48   \n",
       "2    bad         10  owner    36   46  married     yes  freelance        90   \n",
       "3   good          0   rent    60   24   single      no      fixed        63   \n",
       "4   good          0   rent    36   26   single      no      fixed        46   \n",
       "\n",
       "   income  assets  debt  amount  price  \n",
       "0     129       0     0     800    846  \n",
       "1     131       0     0    1000   1658  \n",
       "2     200    3000     0    2000   2985  \n",
       "3     182    2500     0     900   1325  \n",
       "4     107       0     0     310    910  "
      ]
     },
     "execution_count": 14,
     "metadata": {},
     "output_type": "execute_result"
    }
   ],
   "source": [
    "df.head()"
   ]
  },
  {
   "cell_type": "code",
   "execution_count": 15,
   "id": "a22f60bb-0636-4b70-9cc3-76af62a1a47a",
   "metadata": {},
   "outputs": [
    {
     "data": {
      "text/plain": [
       "status       object\n",
       "seniority     int64\n",
       "home         object\n",
       "time          int64\n",
       "age           int64\n",
       "marital      object\n",
       "records      object\n",
       "job          object\n",
       "expenses      int64\n",
       "income        int64\n",
       "assets        int64\n",
       "debt          int64\n",
       "amount        int64\n",
       "price         int64\n",
       "dtype: object"
      ]
     },
     "execution_count": 15,
     "metadata": {},
     "output_type": "execute_result"
    }
   ],
   "source": [
    "df.dtypes"
   ]
  },
  {
   "cell_type": "code",
   "execution_count": 16,
   "id": "4ecaf763-ac78-4842-b52f-115f1a85b1e5",
   "metadata": {},
   "outputs": [
    {
     "data": {
      "text/plain": [
       "True"
      ]
     },
     "execution_count": 16,
     "metadata": {},
     "output_type": "execute_result"
    }
   ],
   "source": [
    "set(df.dtypes[df.dtypes == object].index) == set(categorical_variables)"
   ]
  },
  {
   "cell_type": "code",
   "execution_count": 17,
   "id": "a71039a5-048f-4eea-95c8-9777c2b9ca3d",
   "metadata": {},
   "outputs": [
    {
     "data": {
      "text/html": [
       "<div>\n",
       "<style scoped>\n",
       "    .dataframe tbody tr th:only-of-type {\n",
       "        vertical-align: middle;\n",
       "    }\n",
       "\n",
       "    .dataframe tbody tr th {\n",
       "        vertical-align: top;\n",
       "    }\n",
       "\n",
       "    .dataframe thead th {\n",
       "        text-align: right;\n",
       "    }\n",
       "</style>\n",
       "<table border=\"1\" class=\"dataframe\">\n",
       "  <thead>\n",
       "    <tr style=\"text-align: right;\">\n",
       "      <th></th>\n",
       "      <th>seniority</th>\n",
       "      <th>time</th>\n",
       "      <th>age</th>\n",
       "      <th>expenses</th>\n",
       "      <th>income</th>\n",
       "      <th>assets</th>\n",
       "      <th>debt</th>\n",
       "      <th>amount</th>\n",
       "      <th>price</th>\n",
       "    </tr>\n",
       "  </thead>\n",
       "  <tbody>\n",
       "    <tr>\n",
       "      <th>count</th>\n",
       "      <td>4455.0</td>\n",
       "      <td>4455.0</td>\n",
       "      <td>4455.0</td>\n",
       "      <td>4455.0</td>\n",
       "      <td>4455.0</td>\n",
       "      <td>4455.0</td>\n",
       "      <td>4455.0</td>\n",
       "      <td>4455.0</td>\n",
       "      <td>4455.0</td>\n",
       "    </tr>\n",
       "    <tr>\n",
       "      <th>mean</th>\n",
       "      <td>8.0</td>\n",
       "      <td>46.0</td>\n",
       "      <td>37.0</td>\n",
       "      <td>56.0</td>\n",
       "      <td>763317.0</td>\n",
       "      <td>1060341.0</td>\n",
       "      <td>404382.0</td>\n",
       "      <td>1039.0</td>\n",
       "      <td>1463.0</td>\n",
       "    </tr>\n",
       "    <tr>\n",
       "      <th>std</th>\n",
       "      <td>8.0</td>\n",
       "      <td>15.0</td>\n",
       "      <td>11.0</td>\n",
       "      <td>20.0</td>\n",
       "      <td>8703625.0</td>\n",
       "      <td>10217569.0</td>\n",
       "      <td>6344253.0</td>\n",
       "      <td>475.0</td>\n",
       "      <td>628.0</td>\n",
       "    </tr>\n",
       "    <tr>\n",
       "      <th>min</th>\n",
       "      <td>0.0</td>\n",
       "      <td>6.0</td>\n",
       "      <td>18.0</td>\n",
       "      <td>35.0</td>\n",
       "      <td>0.0</td>\n",
       "      <td>0.0</td>\n",
       "      <td>0.0</td>\n",
       "      <td>100.0</td>\n",
       "      <td>105.0</td>\n",
       "    </tr>\n",
       "    <tr>\n",
       "      <th>25%</th>\n",
       "      <td>2.0</td>\n",
       "      <td>36.0</td>\n",
       "      <td>28.0</td>\n",
       "      <td>35.0</td>\n",
       "      <td>80.0</td>\n",
       "      <td>0.0</td>\n",
       "      <td>0.0</td>\n",
       "      <td>700.0</td>\n",
       "      <td>1118.0</td>\n",
       "    </tr>\n",
       "    <tr>\n",
       "      <th>50%</th>\n",
       "      <td>5.0</td>\n",
       "      <td>48.0</td>\n",
       "      <td>36.0</td>\n",
       "      <td>51.0</td>\n",
       "      <td>120.0</td>\n",
       "      <td>3500.0</td>\n",
       "      <td>0.0</td>\n",
       "      <td>1000.0</td>\n",
       "      <td>1400.0</td>\n",
       "    </tr>\n",
       "    <tr>\n",
       "      <th>75%</th>\n",
       "      <td>12.0</td>\n",
       "      <td>60.0</td>\n",
       "      <td>45.0</td>\n",
       "      <td>72.0</td>\n",
       "      <td>166.0</td>\n",
       "      <td>6000.0</td>\n",
       "      <td>0.0</td>\n",
       "      <td>1300.0</td>\n",
       "      <td>1692.0</td>\n",
       "    </tr>\n",
       "    <tr>\n",
       "      <th>max</th>\n",
       "      <td>48.0</td>\n",
       "      <td>72.0</td>\n",
       "      <td>68.0</td>\n",
       "      <td>180.0</td>\n",
       "      <td>99999999.0</td>\n",
       "      <td>99999999.0</td>\n",
       "      <td>99999999.0</td>\n",
       "      <td>5000.0</td>\n",
       "      <td>11140.0</td>\n",
       "    </tr>\n",
       "  </tbody>\n",
       "</table>\n",
       "</div>"
      ],
      "text/plain": [
       "       seniority    time     age  expenses      income      assets  \\\n",
       "count     4455.0  4455.0  4455.0    4455.0      4455.0      4455.0   \n",
       "mean         8.0    46.0    37.0      56.0    763317.0   1060341.0   \n",
       "std          8.0    15.0    11.0      20.0   8703625.0  10217569.0   \n",
       "min          0.0     6.0    18.0      35.0         0.0         0.0   \n",
       "25%          2.0    36.0    28.0      35.0        80.0         0.0   \n",
       "50%          5.0    48.0    36.0      51.0       120.0      3500.0   \n",
       "75%         12.0    60.0    45.0      72.0       166.0      6000.0   \n",
       "max         48.0    72.0    68.0     180.0  99999999.0  99999999.0   \n",
       "\n",
       "             debt  amount    price  \n",
       "count      4455.0  4455.0   4455.0  \n",
       "mean     404382.0  1039.0   1463.0  \n",
       "std     6344253.0   475.0    628.0  \n",
       "min           0.0   100.0    105.0  \n",
       "25%           0.0   700.0   1118.0  \n",
       "50%           0.0  1000.0   1400.0  \n",
       "75%           0.0  1300.0   1692.0  \n",
       "max    99999999.0  5000.0  11140.0  "
      ]
     },
     "execution_count": 17,
     "metadata": {},
     "output_type": "execute_result"
    }
   ],
   "source": [
    "df.describe().round()"
   ]
  },
  {
   "cell_type": "markdown",
   "id": "59d9d97d-6d82-4d55-9f47-68ec648194d8",
   "metadata": {},
   "source": [
    "missing values (coded as 99999999) !!"
   ]
  },
  {
   "cell_type": "code",
   "execution_count": 18,
   "id": "491ba3db-9f80-4d74-a076-772fe01b8c5b",
   "metadata": {},
   "outputs": [],
   "source": [
    "for c in df.columns:\n",
    "    if c not in categorical_variables:\n",
    "        df[c] = df[c].replace(to_replace=99999999, value=np.nan)"
   ]
  },
  {
   "cell_type": "code",
   "execution_count": 19,
   "id": "262d4fb7-0c82-4560-ac6b-df11e4d3b203",
   "metadata": {},
   "outputs": [
    {
     "data": {
      "text/html": [
       "<div>\n",
       "<style scoped>\n",
       "    .dataframe tbody tr th:only-of-type {\n",
       "        vertical-align: middle;\n",
       "    }\n",
       "\n",
       "    .dataframe tbody tr th {\n",
       "        vertical-align: top;\n",
       "    }\n",
       "\n",
       "    .dataframe thead th {\n",
       "        text-align: right;\n",
       "    }\n",
       "</style>\n",
       "<table border=\"1\" class=\"dataframe\">\n",
       "  <thead>\n",
       "    <tr style=\"text-align: right;\">\n",
       "      <th></th>\n",
       "      <th>seniority</th>\n",
       "      <th>time</th>\n",
       "      <th>age</th>\n",
       "      <th>expenses</th>\n",
       "      <th>income</th>\n",
       "      <th>assets</th>\n",
       "      <th>debt</th>\n",
       "      <th>amount</th>\n",
       "      <th>price</th>\n",
       "    </tr>\n",
       "  </thead>\n",
       "  <tbody>\n",
       "    <tr>\n",
       "      <th>count</th>\n",
       "      <td>4455.0</td>\n",
       "      <td>4455.0</td>\n",
       "      <td>4455.0</td>\n",
       "      <td>4455.0</td>\n",
       "      <td>4421.0</td>\n",
       "      <td>4408.0</td>\n",
       "      <td>4437.0</td>\n",
       "      <td>4455.0</td>\n",
       "      <td>4455.0</td>\n",
       "    </tr>\n",
       "    <tr>\n",
       "      <th>mean</th>\n",
       "      <td>8.0</td>\n",
       "      <td>46.0</td>\n",
       "      <td>37.0</td>\n",
       "      <td>56.0</td>\n",
       "      <td>131.0</td>\n",
       "      <td>5403.0</td>\n",
       "      <td>343.0</td>\n",
       "      <td>1039.0</td>\n",
       "      <td>1463.0</td>\n",
       "    </tr>\n",
       "    <tr>\n",
       "      <th>std</th>\n",
       "      <td>8.0</td>\n",
       "      <td>15.0</td>\n",
       "      <td>11.0</td>\n",
       "      <td>20.0</td>\n",
       "      <td>86.0</td>\n",
       "      <td>11573.0</td>\n",
       "      <td>1246.0</td>\n",
       "      <td>475.0</td>\n",
       "      <td>628.0</td>\n",
       "    </tr>\n",
       "    <tr>\n",
       "      <th>min</th>\n",
       "      <td>0.0</td>\n",
       "      <td>6.0</td>\n",
       "      <td>18.0</td>\n",
       "      <td>35.0</td>\n",
       "      <td>0.0</td>\n",
       "      <td>0.0</td>\n",
       "      <td>0.0</td>\n",
       "      <td>100.0</td>\n",
       "      <td>105.0</td>\n",
       "    </tr>\n",
       "    <tr>\n",
       "      <th>25%</th>\n",
       "      <td>2.0</td>\n",
       "      <td>36.0</td>\n",
       "      <td>28.0</td>\n",
       "      <td>35.0</td>\n",
       "      <td>80.0</td>\n",
       "      <td>0.0</td>\n",
       "      <td>0.0</td>\n",
       "      <td>700.0</td>\n",
       "      <td>1118.0</td>\n",
       "    </tr>\n",
       "    <tr>\n",
       "      <th>50%</th>\n",
       "      <td>5.0</td>\n",
       "      <td>48.0</td>\n",
       "      <td>36.0</td>\n",
       "      <td>51.0</td>\n",
       "      <td>120.0</td>\n",
       "      <td>3000.0</td>\n",
       "      <td>0.0</td>\n",
       "      <td>1000.0</td>\n",
       "      <td>1400.0</td>\n",
       "    </tr>\n",
       "    <tr>\n",
       "      <th>75%</th>\n",
       "      <td>12.0</td>\n",
       "      <td>60.0</td>\n",
       "      <td>45.0</td>\n",
       "      <td>72.0</td>\n",
       "      <td>165.0</td>\n",
       "      <td>6000.0</td>\n",
       "      <td>0.0</td>\n",
       "      <td>1300.0</td>\n",
       "      <td>1692.0</td>\n",
       "    </tr>\n",
       "    <tr>\n",
       "      <th>max</th>\n",
       "      <td>48.0</td>\n",
       "      <td>72.0</td>\n",
       "      <td>68.0</td>\n",
       "      <td>180.0</td>\n",
       "      <td>959.0</td>\n",
       "      <td>300000.0</td>\n",
       "      <td>30000.0</td>\n",
       "      <td>5000.0</td>\n",
       "      <td>11140.0</td>\n",
       "    </tr>\n",
       "  </tbody>\n",
       "</table>\n",
       "</div>"
      ],
      "text/plain": [
       "       seniority    time     age  expenses  income    assets     debt  amount  \\\n",
       "count     4455.0  4455.0  4455.0    4455.0  4421.0    4408.0   4437.0  4455.0   \n",
       "mean         8.0    46.0    37.0      56.0   131.0    5403.0    343.0  1039.0   \n",
       "std          8.0    15.0    11.0      20.0    86.0   11573.0   1246.0   475.0   \n",
       "min          0.0     6.0    18.0      35.0     0.0       0.0      0.0   100.0   \n",
       "25%          2.0    36.0    28.0      35.0    80.0       0.0      0.0   700.0   \n",
       "50%          5.0    48.0    36.0      51.0   120.0    3000.0      0.0  1000.0   \n",
       "75%         12.0    60.0    45.0      72.0   165.0    6000.0      0.0  1300.0   \n",
       "max         48.0    72.0    68.0     180.0   959.0  300000.0  30000.0  5000.0   \n",
       "\n",
       "         price  \n",
       "count   4455.0  \n",
       "mean    1463.0  \n",
       "std      628.0  \n",
       "min      105.0  \n",
       "25%     1118.0  \n",
       "50%     1400.0  \n",
       "75%     1692.0  \n",
       "max    11140.0  "
      ]
     },
     "execution_count": 19,
     "metadata": {},
     "output_type": "execute_result"
    }
   ],
   "source": [
    "df.describe().round()"
   ]
  },
  {
   "cell_type": "code",
   "execution_count": 20,
   "id": "aaa5eb1f-4c6a-411b-8aa0-b5f349ce58a4",
   "metadata": {},
   "outputs": [],
   "source": [
    "for c in categorical_variables:\n",
    "    df = df[df[c]!= \"unknown\"]"
   ]
  },
  {
   "cell_type": "code",
   "execution_count": 21,
   "id": "7931cd95-f123-4a26-9a9b-5083911c9811",
   "metadata": {},
   "outputs": [],
   "source": [
    "df = df.reset_index(drop=True)"
   ]
  },
  {
   "cell_type": "code",
   "execution_count": 22,
   "id": "3c595968-8ca9-4b45-a81e-decbf39e1d18",
   "metadata": {},
   "outputs": [
    {
     "data": {
      "text/html": [
       "<div>\n",
       "<style scoped>\n",
       "    .dataframe tbody tr th:only-of-type {\n",
       "        vertical-align: middle;\n",
       "    }\n",
       "\n",
       "    .dataframe tbody tr th {\n",
       "        vertical-align: top;\n",
       "    }\n",
       "\n",
       "    .dataframe thead th {\n",
       "        text-align: right;\n",
       "    }\n",
       "</style>\n",
       "<table border=\"1\" class=\"dataframe\">\n",
       "  <thead>\n",
       "    <tr style=\"text-align: right;\">\n",
       "      <th></th>\n",
       "      <th>status</th>\n",
       "      <th>seniority</th>\n",
       "      <th>home</th>\n",
       "      <th>time</th>\n",
       "      <th>age</th>\n",
       "      <th>marital</th>\n",
       "      <th>records</th>\n",
       "      <th>job</th>\n",
       "      <th>expenses</th>\n",
       "      <th>income</th>\n",
       "      <th>assets</th>\n",
       "      <th>debt</th>\n",
       "      <th>amount</th>\n",
       "      <th>price</th>\n",
       "    </tr>\n",
       "  </thead>\n",
       "  <tbody>\n",
       "    <tr>\n",
       "      <th>0</th>\n",
       "      <td>good</td>\n",
       "      <td>9</td>\n",
       "      <td>rent</td>\n",
       "      <td>60</td>\n",
       "      <td>30</td>\n",
       "      <td>married</td>\n",
       "      <td>no</td>\n",
       "      <td>freelance</td>\n",
       "      <td>73</td>\n",
       "      <td>129.0</td>\n",
       "      <td>0.0</td>\n",
       "      <td>0.0</td>\n",
       "      <td>800</td>\n",
       "      <td>846</td>\n",
       "    </tr>\n",
       "    <tr>\n",
       "      <th>1</th>\n",
       "      <td>good</td>\n",
       "      <td>17</td>\n",
       "      <td>rent</td>\n",
       "      <td>60</td>\n",
       "      <td>58</td>\n",
       "      <td>widow</td>\n",
       "      <td>no</td>\n",
       "      <td>fixed</td>\n",
       "      <td>48</td>\n",
       "      <td>131.0</td>\n",
       "      <td>0.0</td>\n",
       "      <td>0.0</td>\n",
       "      <td>1000</td>\n",
       "      <td>1658</td>\n",
       "    </tr>\n",
       "    <tr>\n",
       "      <th>2</th>\n",
       "      <td>bad</td>\n",
       "      <td>10</td>\n",
       "      <td>owner</td>\n",
       "      <td>36</td>\n",
       "      <td>46</td>\n",
       "      <td>married</td>\n",
       "      <td>yes</td>\n",
       "      <td>freelance</td>\n",
       "      <td>90</td>\n",
       "      <td>200.0</td>\n",
       "      <td>3000.0</td>\n",
       "      <td>0.0</td>\n",
       "      <td>2000</td>\n",
       "      <td>2985</td>\n",
       "    </tr>\n",
       "    <tr>\n",
       "      <th>3</th>\n",
       "      <td>good</td>\n",
       "      <td>0</td>\n",
       "      <td>rent</td>\n",
       "      <td>60</td>\n",
       "      <td>24</td>\n",
       "      <td>single</td>\n",
       "      <td>no</td>\n",
       "      <td>fixed</td>\n",
       "      <td>63</td>\n",
       "      <td>182.0</td>\n",
       "      <td>2500.0</td>\n",
       "      <td>0.0</td>\n",
       "      <td>900</td>\n",
       "      <td>1325</td>\n",
       "    </tr>\n",
       "    <tr>\n",
       "      <th>4</th>\n",
       "      <td>good</td>\n",
       "      <td>0</td>\n",
       "      <td>rent</td>\n",
       "      <td>36</td>\n",
       "      <td>26</td>\n",
       "      <td>single</td>\n",
       "      <td>no</td>\n",
       "      <td>fixed</td>\n",
       "      <td>46</td>\n",
       "      <td>107.0</td>\n",
       "      <td>0.0</td>\n",
       "      <td>0.0</td>\n",
       "      <td>310</td>\n",
       "      <td>910</td>\n",
       "    </tr>\n",
       "    <tr>\n",
       "      <th>...</th>\n",
       "      <td>...</td>\n",
       "      <td>...</td>\n",
       "      <td>...</td>\n",
       "      <td>...</td>\n",
       "      <td>...</td>\n",
       "      <td>...</td>\n",
       "      <td>...</td>\n",
       "      <td>...</td>\n",
       "      <td>...</td>\n",
       "      <td>...</td>\n",
       "      <td>...</td>\n",
       "      <td>...</td>\n",
       "      <td>...</td>\n",
       "      <td>...</td>\n",
       "    </tr>\n",
       "    <tr>\n",
       "      <th>4441</th>\n",
       "      <td>bad</td>\n",
       "      <td>1</td>\n",
       "      <td>rent</td>\n",
       "      <td>60</td>\n",
       "      <td>39</td>\n",
       "      <td>married</td>\n",
       "      <td>no</td>\n",
       "      <td>fixed</td>\n",
       "      <td>69</td>\n",
       "      <td>92.0</td>\n",
       "      <td>0.0</td>\n",
       "      <td>0.0</td>\n",
       "      <td>900</td>\n",
       "      <td>1020</td>\n",
       "    </tr>\n",
       "    <tr>\n",
       "      <th>4442</th>\n",
       "      <td>good</td>\n",
       "      <td>22</td>\n",
       "      <td>owner</td>\n",
       "      <td>60</td>\n",
       "      <td>46</td>\n",
       "      <td>married</td>\n",
       "      <td>no</td>\n",
       "      <td>fixed</td>\n",
       "      <td>60</td>\n",
       "      <td>75.0</td>\n",
       "      <td>3000.0</td>\n",
       "      <td>600.0</td>\n",
       "      <td>950</td>\n",
       "      <td>1263</td>\n",
       "    </tr>\n",
       "    <tr>\n",
       "      <th>4443</th>\n",
       "      <td>bad</td>\n",
       "      <td>0</td>\n",
       "      <td>owner</td>\n",
       "      <td>24</td>\n",
       "      <td>37</td>\n",
       "      <td>married</td>\n",
       "      <td>no</td>\n",
       "      <td>part_time</td>\n",
       "      <td>60</td>\n",
       "      <td>90.0</td>\n",
       "      <td>3500.0</td>\n",
       "      <td>0.0</td>\n",
       "      <td>500</td>\n",
       "      <td>963</td>\n",
       "    </tr>\n",
       "    <tr>\n",
       "      <th>4444</th>\n",
       "      <td>good</td>\n",
       "      <td>0</td>\n",
       "      <td>rent</td>\n",
       "      <td>48</td>\n",
       "      <td>23</td>\n",
       "      <td>single</td>\n",
       "      <td>no</td>\n",
       "      <td>freelance</td>\n",
       "      <td>49</td>\n",
       "      <td>140.0</td>\n",
       "      <td>0.0</td>\n",
       "      <td>0.0</td>\n",
       "      <td>550</td>\n",
       "      <td>550</td>\n",
       "    </tr>\n",
       "    <tr>\n",
       "      <th>4445</th>\n",
       "      <td>good</td>\n",
       "      <td>5</td>\n",
       "      <td>owner</td>\n",
       "      <td>60</td>\n",
       "      <td>32</td>\n",
       "      <td>married</td>\n",
       "      <td>no</td>\n",
       "      <td>freelance</td>\n",
       "      <td>60</td>\n",
       "      <td>140.0</td>\n",
       "      <td>4000.0</td>\n",
       "      <td>1000.0</td>\n",
       "      <td>1350</td>\n",
       "      <td>1650</td>\n",
       "    </tr>\n",
       "  </tbody>\n",
       "</table>\n",
       "<p>4446 rows × 14 columns</p>\n",
       "</div>"
      ],
      "text/plain": [
       "     status  seniority   home  time  age  marital records        job  \\\n",
       "0      good          9   rent    60   30  married      no  freelance   \n",
       "1      good         17   rent    60   58    widow      no      fixed   \n",
       "2       bad         10  owner    36   46  married     yes  freelance   \n",
       "3      good          0   rent    60   24   single      no      fixed   \n",
       "4      good          0   rent    36   26   single      no      fixed   \n",
       "...     ...        ...    ...   ...  ...      ...     ...        ...   \n",
       "4441    bad          1   rent    60   39  married      no      fixed   \n",
       "4442   good         22  owner    60   46  married      no      fixed   \n",
       "4443    bad          0  owner    24   37  married      no  part_time   \n",
       "4444   good          0   rent    48   23   single      no  freelance   \n",
       "4445   good          5  owner    60   32  married      no  freelance   \n",
       "\n",
       "      expenses  income  assets    debt  amount  price  \n",
       "0           73   129.0     0.0     0.0     800    846  \n",
       "1           48   131.0     0.0     0.0    1000   1658  \n",
       "2           90   200.0  3000.0     0.0    2000   2985  \n",
       "3           63   182.0  2500.0     0.0     900   1325  \n",
       "4           46   107.0     0.0     0.0     310    910  \n",
       "...        ...     ...     ...     ...     ...    ...  \n",
       "4441        69    92.0     0.0     0.0     900   1020  \n",
       "4442        60    75.0  3000.0   600.0     950   1263  \n",
       "4443        60    90.0  3500.0     0.0     500    963  \n",
       "4444        49   140.0     0.0     0.0     550    550  \n",
       "4445        60   140.0  4000.0  1000.0    1350   1650  \n",
       "\n",
       "[4446 rows x 14 columns]"
      ]
     },
     "execution_count": 22,
     "metadata": {},
     "output_type": "execute_result"
    }
   ],
   "source": [
    "df"
   ]
  },
  {
   "cell_type": "markdown",
   "id": "949eaf48-cb66-452d-8084-fcc087cba8bd",
   "metadata": {},
   "source": [
    "## Split into train, val and test datasets"
   ]
  },
  {
   "cell_type": "code",
   "execution_count": 23,
   "id": "00230ae9-9373-429e-bfc0-a8253d48fc4b",
   "metadata": {},
   "outputs": [],
   "source": [
    "df_full_train, df_test = train_test_split(df, test_size=0.2, random_state=1)\n",
    "df_train, df_val = train_test_split(df_full_train, test_size=0.25, random_state=1) # 0.25*0.8 = 0.2 = val size, so 60-20-20 split"
   ]
  },
  {
   "cell_type": "code",
   "execution_count": 24,
   "id": "cdec7ad3-645a-477b-b753-9847fad4b982",
   "metadata": {},
   "outputs": [],
   "source": [
    "df_train = df_train.reset_index(drop=True)\n",
    "df_val = df_val.reset_index(drop=True)\n",
    "df_test = df_test.reset_index(drop=True)"
   ]
  },
  {
   "cell_type": "code",
   "execution_count": 25,
   "id": "90a9f0c3-310e-4784-a2ca-296c48f6d222",
   "metadata": {},
   "outputs": [
    {
     "data": {
      "text/plain": [
       "((2667, 14), (889, 14), (890, 14))"
      ]
     },
     "execution_count": 25,
     "metadata": {},
     "output_type": "execute_result"
    }
   ],
   "source": [
    "df_train.shape, df_val.shape, df_test.shape"
   ]
  },
  {
   "cell_type": "code",
   "execution_count": 26,
   "id": "313542c3-700f-473c-be62-f699cf59b78d",
   "metadata": {},
   "outputs": [],
   "source": [
    "y_train = (df_train[\"status\"] == \"bad\").astype(int).values\n",
    "y_val = (df_val[\"status\"] == \"bad\").astype(int).values\n",
    "y_test = (df_test[\"status\"] == \"bad\").astype(int).values"
   ]
  },
  {
   "cell_type": "code",
   "execution_count": 28,
   "id": "bea4a53f-bd57-4837-8014-69e6940e3c5a",
   "metadata": {},
   "outputs": [
    {
     "data": {
      "text/plain": [
       "((2667,), (889,), (890,))"
      ]
     },
     "execution_count": 28,
     "metadata": {},
     "output_type": "execute_result"
    }
   ],
   "source": [
    "y_train.shape, y_val.shape, y_test.shape"
   ]
  },
  {
   "cell_type": "code",
   "execution_count": 27,
   "id": "0ca857db-c223-4ef4-88e6-2f1b71bd97eb",
   "metadata": {},
   "outputs": [],
   "source": [
    "del df_train[\"status\"]\n",
    "del df_val[\"status\"]\n",
    "del df_test[\"status\"]"
   ]
  },
  {
   "cell_type": "markdown",
   "id": "40c8fead-5c9a-4a43-a0a0-1e6246507977",
   "metadata": {},
   "source": [
    "# Construct feature matrix"
   ]
  },
  {
   "cell_type": "code",
   "execution_count": 28,
   "id": "517fcd71-69d0-43d5-aed5-0c89aa171777",
   "metadata": {},
   "outputs": [],
   "source": [
    "train_dict = df_train.fillna(0).to_dict(orient='records') #turn each row into a dictionary"
   ]
  },
  {
   "cell_type": "code",
   "execution_count": 29,
   "id": "5ef0d7e5-8fef-41b7-879b-27614103132d",
   "metadata": {},
   "outputs": [
    {
     "data": {
      "text/plain": [
       "{'seniority': 4,\n",
       " 'home': 'owner',\n",
       " 'time': 60,\n",
       " 'age': 26,\n",
       " 'marital': 'married',\n",
       " 'records': 'no',\n",
       " 'job': 'fixed',\n",
       " 'expenses': 45,\n",
       " 'income': 152.0,\n",
       " 'assets': 4000.0,\n",
       " 'debt': 1200.0,\n",
       " 'amount': 950,\n",
       " 'price': 1050}"
      ]
     },
     "execution_count": 29,
     "metadata": {},
     "output_type": "execute_result"
    }
   ],
   "source": [
    "train_dict[0] #first row"
   ]
  },
  {
   "cell_type": "code",
   "execution_count": 30,
   "id": "30775033-4f75-491a-825b-21875b3beb3c",
   "metadata": {},
   "outputs": [],
   "source": [
    "v = DictVectorizer(sparse=False)"
   ]
  },
  {
   "cell_type": "code",
   "execution_count": 31,
   "id": "6bb6d84d-7058-4640-9a18-a2e637b8c7ca",
   "metadata": {},
   "outputs": [],
   "source": [
    "X_train = v.fit_transform(train_dict) # does one hot encoding of the categorical variables in the process"
   ]
  },
  {
   "cell_type": "code",
   "execution_count": 32,
   "id": "cf1d3e66-3107-4aec-9709-9d24146df9c9",
   "metadata": {},
   "outputs": [
    {
     "data": {
      "text/plain": [
       "(2667, 26)"
      ]
     },
     "execution_count": 32,
     "metadata": {},
     "output_type": "execute_result"
    }
   ],
   "source": [
    "X_train.shape"
   ]
  },
  {
   "cell_type": "code",
   "execution_count": 33,
   "id": "d9de813a-10d4-4831-a1ac-69c16f64af69",
   "metadata": {},
   "outputs": [
    {
     "data": {
      "text/plain": [
       "(2667, 13)"
      ]
     },
     "execution_count": 33,
     "metadata": {},
     "output_type": "execute_result"
    }
   ],
   "source": [
    "df_train.shape"
   ]
  },
  {
   "cell_type": "code",
   "execution_count": 34,
   "id": "7c51bf95-267e-4524-96ae-457d4f40db93",
   "metadata": {},
   "outputs": [
    {
     "data": {
      "text/plain": [
       "array(['age', 'amount', 'assets', 'debt', 'expenses', 'home=ignore',\n",
       "       'home=other', 'home=owner', 'home=parents', 'home=priv',\n",
       "       'home=rent', 'income', 'job=fixed', 'job=freelance', 'job=others',\n",
       "       'job=part_time', 'marital=divorced', 'marital=married',\n",
       "       'marital=separated', 'marital=single', 'marital=widow', 'price',\n",
       "       'records=no', 'records=yes', 'seniority', 'time'], dtype=object)"
      ]
     },
     "execution_count": 34,
     "metadata": {},
     "output_type": "execute_result"
    }
   ],
   "source": [
    "v.get_feature_names_out()"
   ]
  },
  {
   "cell_type": "markdown",
   "id": "27995270-d559-4a4d-bc55-adf6e34376b2",
   "metadata": {},
   "source": [
    "# Validation"
   ]
  },
  {
   "cell_type": "code",
   "execution_count": 37,
   "id": "347a94e3-bdee-4704-8e60-c58ba2b18ec9",
   "metadata": {},
   "outputs": [],
   "source": [
    "val_dict = df_val.fillna(0).to_dict(orient='records') #turn each row into a dictionary\n",
    "X_val = v.transform(val_dict)"
   ]
  },
  {
   "cell_type": "markdown",
   "id": "8afdbe00-b7e6-400d-a257-8678fea7d8d9",
   "metadata": {},
   "source": [
    "# XGBoost"
   ]
  },
  {
   "cell_type": "code",
   "execution_count": 38,
   "id": "08660bb4-74fa-4cb3-b0c7-f8c38f318c3a",
   "metadata": {},
   "outputs": [],
   "source": [
    "features = v.get_feature_names_out()\n",
    "dtrain = xgb.DMatrix(X_train, y_train)\n",
    "dval = xgb.DMatrix(X_val, y_val)"
   ]
  },
  {
   "cell_type": "code",
   "execution_count": 39,
   "id": "12f8a859-1100-4e53-a890-dc1473e34ac9",
   "metadata": {},
   "outputs": [
    {
     "name": "stderr",
     "output_type": "stream",
     "text": [
      "/Users/ideallaedi/.local/share/virtualenvs/mlzoomcamp-2023-F6NG9Yfl/lib/python3.11/site-packages/xgboost/core.py:160: UserWarning: [20:36:43] WARNING: /Users/runner/work/xgboost/xgboost/src/learner.cc:742: \n",
      "Parameters: { \"nthreads\" } are not used.\n",
      "\n",
      "  warnings.warn(smsg, UserWarning)\n"
     ]
    }
   ],
   "source": [
    "xgb_params = {\n",
    "    'eta':0.3,\n",
    "    'max_depth': 6,\n",
    "    'min_child_weight': 1, #min samples leaf\n",
    "    'objective': 'binary:logistic',\n",
    "    'nthreads':4, # num threads\n",
    "    'seed': 1,\n",
    "    'verbosity': 1, # 1 = show only warnings\n",
    "    \n",
    "}\n",
    "model = xgb.train(xgb_params, dtrain, num_boost_round=200)"
   ]
  },
  {
   "cell_type": "code",
   "execution_count": null,
   "id": "03f42239-4447-4932-af9b-2fa566953bf7",
   "metadata": {},
   "outputs": [],
   "source": []
  },
  {
   "cell_type": "code",
   "execution_count": 40,
   "id": "53029d7a-e3ca-4412-890e-cceff6fc3deb",
   "metadata": {},
   "outputs": [],
   "source": [
    "y_val_pred = model.predict(dval)"
   ]
  },
  {
   "cell_type": "code",
   "execution_count": 41,
   "id": "9864550f-a1ac-471e-819e-4fbd2399e74b",
   "metadata": {},
   "outputs": [
    {
     "data": {
      "text/plain": [
       "array([2.78430227e-02, 8.78737390e-01, 9.95748103e-01, 1.09068379e-02,\n",
       "       9.26460385e-01, 2.91341916e-02, 1.20035984e-01, 8.15911591e-01,\n",
       "       8.48637283e-01, 8.03067923e-01, 3.58438760e-01, 3.52680311e-02,\n",
       "       9.61311981e-02, 8.47409964e-01, 5.63366222e-04, 5.32043800e-02,\n",
       "       1.81001826e-06, 2.66729272e-04, 1.35694938e-02, 1.83784649e-01,\n",
       "       9.01744142e-03, 3.38642299e-01, 2.00141985e-02, 1.27251223e-02,\n",
       "       9.65066373e-01, 1.83605868e-02, 9.90752935e-01, 1.97732121e-01,\n",
       "       7.21927106e-01, 3.68983746e-01, 7.54784822e-01, 2.90591538e-06,\n",
       "       9.47456658e-01, 3.26905608e-01, 3.77072334e-01, 1.57626346e-02,\n",
       "       2.83978134e-02, 9.97479379e-01, 3.07272351e-03, 9.63905215e-01,\n",
       "       9.99819100e-01, 6.18396327e-03, 4.69275117e-01, 6.87606931e-01,\n",
       "       3.48805822e-02, 9.97541189e-01, 2.74076039e-04, 9.39958930e-01,\n",
       "       9.96195197e-01, 7.56407306e-02, 2.07182810e-01, 9.26467404e-02,\n",
       "       7.14834430e-04, 1.34295058e-02, 9.99481976e-01, 2.36467604e-05,\n",
       "       3.35841649e-03, 4.99660134e-01, 9.87117112e-01, 2.29652105e-05,\n",
       "       1.96773151e-04, 8.04724358e-03, 4.16850584e-04, 3.37578595e-01,\n",
       "       3.46857533e-02, 1.20673918e-04, 1.33379679e-02, 8.66916478e-01,\n",
       "       1.52441114e-03, 1.89464748e-01, 3.04212440e-02, 3.90831381e-01,\n",
       "       9.14667919e-02, 7.44705677e-01, 8.25984776e-01, 7.84509629e-03,\n",
       "       9.97268200e-01, 1.08439438e-01, 2.17990503e-02, 7.38061786e-01,\n",
       "       4.23724297e-03, 5.79423318e-03, 1.18448168e-01, 2.48619495e-03,\n",
       "       1.31676001e-02, 3.79935838e-02, 1.78153235e-02, 5.77786232e-05,\n",
       "       8.10535625e-04, 9.02828560e-06, 1.96196601e-01, 7.89798722e-02,\n",
       "       8.70630085e-01, 2.14963835e-02, 2.83227321e-02, 1.23570338e-01,\n",
       "       2.07629681e-01, 9.91825700e-01, 3.28056097e-01, 3.12502772e-01,\n",
       "       7.86065869e-03, 9.78662550e-01, 1.66825240e-03, 2.57061236e-03,\n",
       "       1.61148697e-01, 2.11871502e-05, 7.92885944e-03, 5.36196586e-03,\n",
       "       2.52184719e-01, 1.76743194e-01, 1.08715340e-01, 9.95011806e-01,\n",
       "       6.20795618e-06, 9.99132693e-01, 3.04009654e-02, 9.78373110e-01,\n",
       "       1.98407518e-03, 1.24738086e-03, 9.50504837e-05, 8.27874914e-02,\n",
       "       2.53830268e-03, 4.16802555e-01, 2.23434001e-01, 3.34275037e-01,\n",
       "       1.04029186e-01, 3.14677283e-02, 8.60095993e-02, 2.34250292e-01,\n",
       "       3.89215983e-02, 6.20316975e-02, 8.16771984e-02, 9.93027627e-01,\n",
       "       1.54934009e-03, 4.17980812e-02, 1.04273506e-03, 7.35817030e-02,\n",
       "       8.30426067e-03, 1.89152844e-02, 1.76807009e-02, 9.98893559e-01,\n",
       "       3.66496574e-03, 1.44709938e-03, 2.90346801e-01, 5.75392768e-02,\n",
       "       1.65677513e-03, 3.32096815e-02, 4.35168892e-01, 5.20764530e-01,\n",
       "       4.70977157e-01, 6.81140661e-01, 9.78997409e-01, 9.79627609e-01,\n",
       "       2.34085858e-01, 2.35571712e-03, 7.26588488e-01, 3.67927336e-04,\n",
       "       5.97089306e-02, 3.23708355e-02, 7.27393925e-02, 6.70951232e-02,\n",
       "       9.07301088e-04, 4.73604411e-01, 1.67190507e-01, 7.52360344e-01,\n",
       "       3.23114684e-03, 4.50656796e-03, 5.40136956e-02, 6.36141121e-01,\n",
       "       9.41408932e-01, 6.64387286e-01, 1.09668262e-03, 3.21110041e-04,\n",
       "       5.66748977e-01, 1.16197532e-03, 1.65013019e-02, 1.03972740e-02,\n",
       "       1.16850110e-02, 5.28011878e-04, 3.30935448e-01, 2.19598487e-02,\n",
       "       4.14514728e-02, 9.48505282e-01, 8.85140896e-01, 2.23140381e-02,\n",
       "       9.17326510e-01, 6.59221709e-02, 1.13031659e-02, 8.13145101e-01,\n",
       "       2.34745607e-01, 7.26952627e-02, 7.12502450e-02, 3.65605317e-02,\n",
       "       4.10550348e-02, 9.61278845e-03, 5.84382564e-02, 2.88402080e-04,\n",
       "       1.86768770e-02, 8.07705164e-01, 4.12501171e-02, 8.67236126e-03,\n",
       "       9.93837655e-01, 5.81326545e-04, 6.60959661e-01, 9.16449904e-01,\n",
       "       4.06040885e-02, 3.99575150e-03, 3.94908749e-02, 1.93410471e-01,\n",
       "       2.08730735e-02, 4.44270000e-02, 4.58124746e-03, 4.47143160e-04,\n",
       "       4.02193036e-05, 3.48532312e-02, 9.98201370e-01, 3.46832001e-03,\n",
       "       2.23330874e-02, 7.25615956e-03, 1.01350294e-03, 1.58116419e-03,\n",
       "       1.53744069e-04, 2.37566128e-05, 2.86140293e-02, 6.54271960e-01,\n",
       "       2.25636438e-02, 9.86960173e-01, 2.15116213e-03, 9.57115829e-01,\n",
       "       9.98819888e-01, 5.52383062e-05, 1.00461923e-01, 1.86469092e-03,\n",
       "       1.02668526e-02, 5.93256295e-01, 8.94278847e-03, 9.99435604e-01,\n",
       "       2.85682864e-02, 4.49215295e-03, 3.09699953e-01, 7.46404473e-03,\n",
       "       7.69883767e-03, 2.57024337e-02, 9.99955773e-01, 2.56416500e-01,\n",
       "       6.66069031e-01, 3.62273067e-01, 8.90130997e-01, 1.59593765e-02,\n",
       "       5.31497970e-02, 5.56711493e-05, 7.49499276e-02, 5.97762316e-02,\n",
       "       6.95013180e-02, 1.67319715e-01, 8.91614798e-03, 3.93993873e-03,\n",
       "       2.15244174e-01, 3.37023199e-01, 5.91975510e-01, 3.13830205e-05,\n",
       "       4.51870699e-04, 7.13883400e-01, 6.42716550e-05, 9.97308046e-02,\n",
       "       2.82478660e-01, 2.35031433e-02, 9.09678638e-01, 2.45635528e-02,\n",
       "       6.97612122e-04, 2.05213893e-02, 9.69275594e-01, 9.64225769e-01,\n",
       "       8.99237394e-01, 2.82037514e-03, 5.37286282e-01, 4.70084138e-03,\n",
       "       2.92832498e-02, 9.17252719e-01, 2.88551986e-01, 9.92581487e-01,\n",
       "       7.18200505e-01, 4.80597824e-01, 1.03861205e-01, 4.87358302e-01,\n",
       "       3.62927490e-03, 2.82595828e-02, 4.16878939e-01, 3.71320359e-02,\n",
       "       8.45646299e-03, 1.86799079e-01, 9.11940932e-01, 1.49065629e-01,\n",
       "       5.73824681e-02, 1.20252728e-01, 2.79895347e-02, 9.76337492e-01,\n",
       "       5.58585405e-01, 1.09744385e-01, 1.16451662e-02, 1.39657786e-04,\n",
       "       6.06338859e-01, 1.25578037e-02, 4.74029452e-01, 2.33527981e-02,\n",
       "       4.80277486e-05, 1.67029090e-02, 8.87023576e-04, 8.71889014e-03,\n",
       "       3.62478918e-03, 9.21657205e-01, 4.40376985e-04, 5.26872871e-04,\n",
       "       9.72610831e-01, 8.03888217e-03, 1.69264618e-02, 6.44379854e-01,\n",
       "       1.83059296e-04, 6.35677502e-02, 1.72438493e-04, 1.26281823e-03,\n",
       "       2.26188064e-01, 9.89726365e-01, 4.63677244e-03, 9.60968673e-01,\n",
       "       5.97256527e-04, 1.19752309e-03, 7.07331777e-01, 1.04097277e-03,\n",
       "       3.10045597e-03, 1.93085067e-03, 7.39353849e-03, 1.55189028e-02,\n",
       "       1.02695283e-02, 3.86160391e-05, 9.90629256e-01, 1.12227850e-01,\n",
       "       5.49782276e-01, 3.12425895e-03, 2.40129530e-02, 2.82514077e-02,\n",
       "       3.71445894e-01, 9.99876976e-01, 1.40988454e-02, 4.76717710e-01,\n",
       "       9.68679547e-01, 3.17997951e-03, 3.43440194e-03, 1.73068856e-05,\n",
       "       5.04790898e-03, 5.94511151e-01, 1.77216269e-02, 2.98537372e-04,\n",
       "       1.25968829e-02, 9.71795082e-01, 1.68527979e-02, 9.99953985e-01,\n",
       "       8.24343297e-05, 9.74115334e-04, 5.23405522e-03, 4.53070611e-01,\n",
       "       9.21696842e-01, 9.98199701e-01, 9.89237010e-01, 9.50238556e-02,\n",
       "       1.62190199e-03, 2.94545246e-03, 1.37467578e-01, 4.67207795e-03,\n",
       "       6.03374064e-01, 1.96725186e-02, 3.94777656e-02, 1.63707603e-02,\n",
       "       1.78897768e-04, 1.22222409e-03, 2.64720235e-04, 4.47787307e-02,\n",
       "       9.89365339e-01, 7.34952986e-01, 1.61624458e-02, 2.23783706e-03,\n",
       "       5.17908557e-05, 8.49490047e-01, 8.54210556e-03, 2.80180246e-01,\n",
       "       4.09991480e-02, 1.16940832e-03, 6.72941208e-01, 1.59691996e-03,\n",
       "       1.40968636e-01, 9.50948372e-02, 3.34371653e-05, 3.22294086e-01,\n",
       "       2.72983555e-02, 3.57055396e-01, 9.89152670e-01, 2.89388627e-01,\n",
       "       9.96851027e-01, 2.65833378e-01, 4.17444062e-05, 5.33860992e-04,\n",
       "       1.04734730e-02, 4.03855927e-03, 1.25878898e-04, 7.40466177e-01,\n",
       "       9.96633782e-04, 1.97624162e-01, 8.11018348e-02, 2.17921624e-04,\n",
       "       5.08538028e-03, 3.10805533e-03, 6.64025307e-01, 3.52624729e-02,\n",
       "       7.40344753e-04, 9.99251306e-01, 1.11598393e-03, 3.86279434e-01,\n",
       "       2.00621098e-01, 8.00180528e-03, 1.23665165e-02, 5.20526171e-01,\n",
       "       2.11388730e-02, 1.02770014e-03, 9.81880784e-01, 7.49132741e-05,\n",
       "       9.38703120e-01, 3.25108707e-01, 4.33390448e-03, 3.30769387e-03,\n",
       "       2.38530114e-01, 9.57861892e-04, 1.64509527e-02, 2.96832658e-02,\n",
       "       3.66649389e-01, 1.52672664e-03, 7.92182088e-01, 5.84194176e-02,\n",
       "       9.17568266e-01, 6.48668945e-01, 1.67172149e-01, 9.33508854e-03,\n",
       "       2.50393903e-04, 9.20394003e-01, 1.45784738e-02, 2.71579236e-01,\n",
       "       8.77288133e-02, 2.37360466e-02, 7.78655987e-04, 8.32807899e-01,\n",
       "       4.19031875e-03, 1.14636347e-01, 3.64266485e-02, 1.03815515e-02,\n",
       "       5.38643822e-02, 1.71371907e-01, 4.08770107e-02, 1.49953440e-01,\n",
       "       2.83513824e-03, 2.94063501e-02, 8.07185133e-04, 1.18137607e-02,\n",
       "       4.05047536e-02, 2.16552004e-01, 1.81105241e-01, 5.71734488e-01,\n",
       "       1.08391857e-02, 9.94223893e-01, 2.48730695e-03, 6.43419055e-03,\n",
       "       8.87572169e-01, 7.00483993e-02, 7.09580004e-01, 7.16554165e-01,\n",
       "       7.23478556e-01, 9.75147188e-01, 4.15380746e-05, 4.43592668e-01,\n",
       "       9.96538281e-01, 1.26811236e-01, 6.97006106e-01, 2.19338268e-01,\n",
       "       6.19401395e-01, 2.22145438e-01, 8.16315651e-01, 5.34861267e-01,\n",
       "       3.82708043e-01, 5.63239641e-02, 7.79741585e-01, 4.91150051e-01,\n",
       "       7.05067098e-01, 8.64081442e-01, 9.66272503e-03, 1.80329347e-03,\n",
       "       2.57717311e-01, 1.92150532e-04, 1.86329638e-03, 1.99416950e-02,\n",
       "       1.10934682e-01, 5.83738506e-01, 1.21854015e-01, 3.77592398e-04,\n",
       "       3.36962636e-03, 7.98427761e-01, 6.47294581e-01, 3.33764344e-01,\n",
       "       2.13007326e-03, 2.81646056e-03, 4.13073831e-05, 2.82587454e-04,\n",
       "       9.54535425e-01, 1.67559221e-01, 3.56143108e-04, 2.81538397e-01,\n",
       "       1.77965994e-05, 4.86718565e-02, 5.10651231e-01, 1.53689701e-02,\n",
       "       1.73753232e-01, 3.49727608e-02, 7.37137914e-01, 1.46105543e-01,\n",
       "       1.12993941e-02, 6.45084307e-04, 5.57804073e-04, 9.11329844e-05,\n",
       "       8.66630495e-01, 7.01434314e-02, 2.33559627e-02, 9.03959632e-01,\n",
       "       1.93911511e-02, 6.27225311e-03, 9.85681176e-01, 6.53444044e-03,\n",
       "       2.26964895e-03, 2.34315503e-05, 9.81686115e-01, 2.58435291e-04,\n",
       "       5.09192178e-04, 9.93974745e-01, 2.23362401e-01, 4.87152534e-03,\n",
       "       7.89226488e-06, 2.73464955e-02, 9.04642820e-06, 9.10725072e-02,\n",
       "       3.79321396e-01, 2.37392168e-02, 1.45136684e-01, 8.90424669e-01,\n",
       "       6.90678656e-01, 1.38023376e-01, 3.59481579e-04, 4.01347727e-02,\n",
       "       4.00221139e-01, 7.34237194e-01, 6.79585397e-01, 9.37335491e-01,\n",
       "       2.02383511e-02, 8.18871409e-02, 9.44286658e-05, 4.21219245e-02,\n",
       "       9.99181569e-01, 9.42441344e-01, 1.70789578e-03, 6.15948693e-06,\n",
       "       3.16858804e-03, 6.73419312e-02, 1.08953632e-01, 1.10797822e-01,\n",
       "       9.74772096e-01, 8.01549077e-01, 6.29021049e-01, 5.21190241e-02,\n",
       "       5.26877178e-04, 3.81086826e-01, 1.45873688e-02, 1.86384451e-02,\n",
       "       1.11037297e-02, 7.11391866e-01, 1.73274966e-04, 9.74954188e-01,\n",
       "       2.45418549e-01, 1.51601816e-02, 4.96853516e-03, 1.14785038e-01,\n",
       "       7.65762338e-03, 1.04385495e-01, 1.03508644e-01, 3.50461930e-01,\n",
       "       2.42074400e-01, 4.21135187e-01, 1.80573929e-02, 3.34494798e-05,\n",
       "       9.16398764e-02, 3.78927201e-01, 9.99872923e-01, 9.08384845e-03,\n",
       "       3.11057694e-04, 8.74553923e-04, 1.44594535e-02, 1.29837319e-01,\n",
       "       1.62064601e-02, 2.96079810e-03, 4.34345612e-03, 9.34509754e-01,\n",
       "       1.82224849e-05, 1.04289304e-03, 4.50751893e-02, 9.30612803e-01,\n",
       "       1.98591646e-04, 5.97880520e-02, 4.45631802e-01, 1.03334319e-02,\n",
       "       1.41129633e-02, 3.99212528e-04, 3.46729457e-01, 3.11702728e-01,\n",
       "       6.85200939e-05, 3.16750398e-03, 8.96943808e-02, 9.91481543e-01,\n",
       "       6.73522890e-01, 1.10138524e-06, 2.89948016e-01, 1.56444952e-01,\n",
       "       9.61238801e-01, 1.26153290e-01, 9.49925601e-01, 4.17860225e-02,\n",
       "       4.51988548e-01, 2.39164336e-03, 3.16688448e-01, 3.67324799e-02,\n",
       "       1.36327639e-01, 1.28809614e-02, 8.51573870e-02, 1.48942754e-01,\n",
       "       6.66403957e-03, 7.05151200e-01, 1.35562308e-02, 1.30084977e-01,\n",
       "       7.53088680e-04, 1.09591689e-02, 1.43752119e-03, 2.80457232e-02,\n",
       "       7.08122924e-02, 8.31641909e-03, 1.91209644e-01, 9.44918618e-02,\n",
       "       7.86004495e-03, 5.13743535e-02, 5.49976481e-03, 3.49458456e-02,\n",
       "       6.22717384e-03, 1.84391998e-02, 5.60473309e-05, 9.51678038e-01,\n",
       "       5.75668395e-01, 1.06591062e-04, 1.69765577e-01, 2.37324275e-02,\n",
       "       9.56814945e-01, 4.79559274e-03, 2.45819744e-02, 1.49794698e-01,\n",
       "       9.99995589e-01, 8.33534077e-03, 8.54944438e-02, 3.72539721e-02,\n",
       "       2.80425578e-01, 4.91172940e-01, 3.09338956e-03, 2.05701739e-02,\n",
       "       7.74440825e-01, 1.69438794e-02, 6.63302781e-04, 7.59499706e-03,\n",
       "       9.61464226e-01, 3.26618552e-03, 1.82494015e-01, 5.85583737e-03,\n",
       "       4.72505540e-01, 5.79576716e-02, 4.35575694e-02, 6.85082078e-01,\n",
       "       5.24546430e-02, 6.21346235e-01, 5.21795452e-03, 2.20442973e-02,\n",
       "       3.23083252e-02, 9.89162087e-01, 5.94584465e-01, 3.44726950e-01,\n",
       "       9.22648251e-01, 9.88875926e-01, 6.51526093e-01, 8.37306678e-01,\n",
       "       4.15852992e-03, 3.94774973e-03, 4.50257272e-01, 2.55616326e-02,\n",
       "       9.52614486e-01, 5.80998003e-01, 1.21469125e-02, 1.90342963e-02,\n",
       "       4.52324927e-01, 3.89675163e-02, 1.27065163e-02, 4.50616367e-02,\n",
       "       5.09024644e-03, 1.46367133e-01, 2.36325338e-01, 8.37270319e-02,\n",
       "       1.88802123e-01, 5.89070499e-01, 8.83312076e-02, 4.49770182e-01,\n",
       "       6.55717030e-02, 4.41539427e-03, 6.60475297e-03, 4.23132180e-04,\n",
       "       7.57254311e-04, 8.34594448e-06, 1.40275748e-03, 4.80762422e-02,\n",
       "       3.69860083e-01, 9.96877551e-01, 1.29938543e-01, 5.70237994e-01,\n",
       "       9.17700052e-01, 5.10138035e-01, 7.04977778e-04, 9.75761068e-05,\n",
       "       5.05375618e-04, 3.10273375e-03, 2.38133798e-04, 7.87730562e-04,\n",
       "       1.18243203e-01, 9.96570706e-01, 2.22572356e-01, 2.93809414e-01,\n",
       "       1.60648972e-01, 5.47608435e-01, 1.49715543e-01, 6.79414928e-01,\n",
       "       1.63326936e-03, 2.84410286e-04, 8.44155904e-03, 8.61428142e-01,\n",
       "       5.33306098e-04, 3.69402883e-03, 9.97219682e-01, 1.02344491e-02,\n",
       "       2.60276556e-01, 3.85736930e-04, 1.52627751e-03, 8.35662533e-04,\n",
       "       2.99385451e-02, 7.62514651e-01, 9.27441061e-01, 1.09341227e-01,\n",
       "       3.79686765e-02, 1.69958249e-01, 1.43932775e-01, 2.04996154e-01,\n",
       "       1.02198155e-05, 2.51648277e-01, 1.19571060e-01, 3.03803734e-03,\n",
       "       7.21587613e-03, 5.74374862e-04, 1.34672178e-02, 2.07125515e-01,\n",
       "       9.52027738e-02, 7.39941257e-04, 1.17424699e-02, 5.80700673e-03,\n",
       "       6.85372770e-01, 8.99775326e-01, 9.86721635e-01, 2.26440653e-02,\n",
       "       5.64680062e-03, 4.88624955e-03, 5.05153954e-01, 1.99957773e-01,\n",
       "       4.28052479e-03, 1.97777860e-02, 3.51027399e-02, 8.87378216e-01,\n",
       "       5.95485885e-03, 4.33451794e-02, 6.90554753e-02, 4.74964470e-01,\n",
       "       3.44162807e-04, 9.27069306e-01, 3.83013487e-01, 8.72137100e-02,\n",
       "       4.72546041e-01, 1.44906631e-02, 2.11885141e-04, 1.99789703e-02,\n",
       "       1.16963929e-05, 1.11740101e-02, 9.70532238e-01, 8.64689983e-03,\n",
       "       4.25739167e-03, 5.92542673e-03, 5.45998992e-05, 1.71827758e-03,\n",
       "       5.31706929e-01, 2.62917578e-02, 9.97708917e-01, 7.75210500e-01,\n",
       "       7.07864165e-02, 1.89055979e-01, 9.50541019e-01, 8.09228063e-01,\n",
       "       7.90721655e-01, 1.36385468e-04, 8.90563846e-01, 4.70601246e-02,\n",
       "       6.22751613e-05, 2.86114633e-01, 5.28453365e-02, 5.17642475e-05,\n",
       "       5.85987745e-03, 4.68077691e-04, 3.78331472e-03, 4.47083265e-02,\n",
       "       6.82269398e-04, 2.11047404e-03, 7.48003125e-01, 4.30699810e-02,\n",
       "       8.40613902e-01, 1.41899943e-01, 1.06670540e-02, 3.93651992e-01,\n",
       "       8.75493109e-01, 1.41296953e-01, 6.86098576e-01, 8.86792596e-03,\n",
       "       8.25676501e-01, 8.32106590e-01, 2.07305253e-02, 1.03099719e-01,\n",
       "       3.33412558e-01, 3.85333747e-02, 1.31958220e-02, 6.10895874e-03,\n",
       "       7.89751053e-01, 8.35584164e-01, 1.15625121e-01, 5.88282049e-01,\n",
       "       9.04739678e-01, 6.26699300e-04, 6.60085632e-03, 2.95797572e-03,\n",
       "       2.99489405e-02, 8.62106264e-01, 1.37032301e-04, 1.55464066e-02,\n",
       "       1.05513271e-03, 7.96547029e-05, 1.25996247e-01, 1.01979182e-03,\n",
       "       3.37185897e-02, 2.80746911e-02, 9.49278295e-01, 1.88864261e-01,\n",
       "       8.03377479e-05, 7.29366031e-04, 5.43103695e-01, 3.19694653e-02,\n",
       "       1.75173327e-01, 9.93910074e-01, 5.04005969e-01, 4.61952686e-01,\n",
       "       1.42674486e-04, 3.52905929e-01, 4.16104821e-03, 5.54493010e-01,\n",
       "       4.75467071e-02, 9.90144372e-01, 9.54598308e-01, 5.79037180e-04,\n",
       "       3.88537161e-03, 1.28111634e-02, 7.87284672e-02, 7.42754340e-01,\n",
       "       5.64110354e-02], dtype=float32)"
      ]
     },
     "execution_count": 41,
     "metadata": {},
     "output_type": "execute_result"
    }
   ],
   "source": [
    "y_val_pred"
   ]
  },
  {
   "cell_type": "code",
   "execution_count": 45,
   "id": "baf427b4-cd0e-4a92-b45f-857dabc7044d",
   "metadata": {},
   "outputs": [
    {
     "data": {
      "text/plain": [
       "1.0"
      ]
     },
     "execution_count": 45,
     "metadata": {},
     "output_type": "execute_result"
    }
   ],
   "source": [
    "roc_auc_score(y_train, model.predict(dtrain)) # prone to overfitting"
   ]
  },
  {
   "cell_type": "code",
   "execution_count": 42,
   "id": "9798ae94-bf5a-4c52-ab0b-9176efe217d6",
   "metadata": {},
   "outputs": [
    {
     "data": {
      "text/plain": [
       "0.8078653640589654"
      ]
     },
     "execution_count": 42,
     "metadata": {},
     "output_type": "execute_result"
    }
   ],
   "source": [
    "roc_auc_score(y_val, y_val_pred)"
   ]
  },
  {
   "cell_type": "code",
   "execution_count": 47,
   "id": "31cd3b21-7360-43d3-87ff-e09b146469fc",
   "metadata": {},
   "outputs": [
    {
     "data": {
      "text/plain": [
       "0.7660357518401681"
      ]
     },
     "execution_count": 47,
     "metadata": {},
     "output_type": "execute_result"
    }
   ],
   "source": [
    "roc_auc_score(y_train, better_tree.predict_proba(X_train)[:,1])"
   ]
  },
  {
   "cell_type": "markdown",
   "id": "63923181-9b1b-4bdb-ba37-8290955a176b",
   "metadata": {},
   "source": [
    "# Train while tracking val metrics"
   ]
  },
  {
   "cell_type": "code",
   "execution_count": 48,
   "id": "ca3bae0c-f45f-49c3-98ec-81924acc13cb",
   "metadata": {},
   "outputs": [],
   "source": [
    "watchlist = [(dtrain, 'train'), (dval, 'val')]"
   ]
  },
  {
   "cell_type": "code",
   "execution_count": 51,
   "id": "760d5af4-fe87-45c1-8f52-8207facdb797",
   "metadata": {},
   "outputs": [
    {
     "name": "stdout",
     "output_type": "stream",
     "text": [
      "[0]\ttrain-auc:0.86007\tval-auc:0.76673\n",
      "[5]\ttrain-auc:0.92834\tval-auc:0.81731\n",
      "[10]\ttrain-auc:0.95368\tval-auc:0.82261\n",
      "[15]\ttrain-auc:0.96481\tval-auc:0.82629\n",
      "[20]\ttrain-auc:0.97279\tval-auc:0.82413\n",
      "[25]\ttrain-auc:0.98011\tval-auc:0.81975\n",
      "[30]\ttrain-auc:0.98609\tval-auc:0.81876\n",
      "[35]\ttrain-auc:0.98999\tval-auc:0.81534\n",
      "[40]\ttrain-auc:0.99160\tval-auc:0.81460\n",
      "[45]\ttrain-auc:0.99407\tval-auc:0.81199\n",
      "[50]\ttrain-auc:0.99530\tval-auc:0.81242\n"
     ]
    },
    {
     "name": "stderr",
     "output_type": "stream",
     "text": [
      "/Users/ideallaedi/.local/share/virtualenvs/mlzoomcamp-2023-F6NG9Yfl/lib/python3.11/site-packages/xgboost/core.py:160: UserWarning: [20:44:29] WARNING: /Users/runner/work/xgboost/xgboost/src/learner.cc:742: \n",
      "Parameters: { \"nthreads\" } are not used.\n",
      "\n",
      "  warnings.warn(smsg, UserWarning)\n"
     ]
    },
    {
     "name": "stdout",
     "output_type": "stream",
     "text": [
      "[55]\ttrain-auc:0.99639\tval-auc:0.81318\n",
      "[60]\ttrain-auc:0.99770\tval-auc:0.81235\n",
      "[65]\ttrain-auc:0.99897\tval-auc:0.81047\n",
      "[70]\ttrain-auc:0.99958\tval-auc:0.81088\n",
      "[75]\ttrain-auc:0.99981\tval-auc:0.81049\n",
      "[80]\ttrain-auc:0.99983\tval-auc:0.81159\n",
      "[85]\ttrain-auc:0.99988\tval-auc:0.81089\n",
      "[90]\ttrain-auc:0.99993\tval-auc:0.81131\n",
      "[95]\ttrain-auc:0.99997\tval-auc:0.81172\n",
      "[100]\ttrain-auc:0.99998\tval-auc:0.81276\n",
      "[105]\ttrain-auc:0.99999\tval-auc:0.81278\n",
      "[110]\ttrain-auc:1.00000\tval-auc:0.81130\n",
      "[115]\ttrain-auc:1.00000\tval-auc:0.80964\n",
      "[120]\ttrain-auc:1.00000\tval-auc:0.80956\n",
      "[125]\ttrain-auc:1.00000\tval-auc:0.80791\n",
      "[130]\ttrain-auc:1.00000\tval-auc:0.80791\n",
      "[135]\ttrain-auc:1.00000\tval-auc:0.80739\n",
      "[140]\ttrain-auc:1.00000\tval-auc:0.80707\n",
      "[145]\ttrain-auc:1.00000\tval-auc:0.80675\n",
      "[150]\ttrain-auc:1.00000\tval-auc:0.80642\n",
      "[155]\ttrain-auc:1.00000\tval-auc:0.80692\n",
      "[160]\ttrain-auc:1.00000\tval-auc:0.80665\n",
      "[165]\ttrain-auc:1.00000\tval-auc:0.80677\n",
      "[170]\ttrain-auc:1.00000\tval-auc:0.80566\n",
      "[175]\ttrain-auc:1.00000\tval-auc:0.80524\n",
      "[180]\ttrain-auc:1.00000\tval-auc:0.80649\n",
      "[185]\ttrain-auc:1.00000\tval-auc:0.80699\n",
      "[190]\ttrain-auc:1.00000\tval-auc:0.80775\n",
      "[195]\ttrain-auc:1.00000\tval-auc:0.80850\n",
      "[199]\ttrain-auc:1.00000\tval-auc:0.80787\n"
     ]
    }
   ],
   "source": [
    "xgb_params = {\n",
    "    'eta':0.3,\n",
    "    'max_depth': 6,\n",
    "    'min_child_weight': 1, #min samples leaf\n",
    "    'objective': 'binary:logistic',\n",
    "    'eval_metric': 'auc',\n",
    "    'nthreads':4, # num threads\n",
    "    'seed': 1,\n",
    "    'verbosity': 1, # 1 = show only warnings\n",
    "    \n",
    "}\n",
    "model = xgb.train(xgb_params, dtrain, num_boost_round=200, verbose_eval = 5, evals=watchlist)"
   ]
  },
  {
   "cell_type": "code",
   "execution_count": 52,
   "id": "d9d29e2f-4e0e-4d74-b58f-9e6dd71f63b8",
   "metadata": {},
   "outputs": [],
   "source": [
    "%%capture output\n",
    "xgb_params = {\n",
    "    'eta':0.3,\n",
    "    'max_depth': 6,\n",
    "    'min_child_weight': 1, #min samples leaf\n",
    "    'objective': 'binary:logistic',\n",
    "    'eval_metric': 'auc',\n",
    "    'nthreads':4, # num threads\n",
    "    'seed': 1,\n",
    "    'verbosity': 1, # 1 = show only warnings\n",
    "    \n",
    "}\n",
    "model = xgb.train(xgb_params, dtrain, num_boost_round=200, verbose_eval = 5, evals=watchlist)"
   ]
  },
  {
   "cell_type": "code",
   "execution_count": 54,
   "id": "10213b1c-16a4-443d-9415-953b6cb4cc58",
   "metadata": {},
   "outputs": [
    {
     "name": "stdout",
     "output_type": "stream",
     "text": [
      "[0]\ttrain-auc:0.86007\tval-auc:0.76673\n",
      "[5]\ttrain-auc:0.92834\tval-auc:0.81731\n",
      "[10]\ttrain-auc:0.95368\tval-auc:0.82261\n",
      "[15]\ttrain-auc:0.96481\tval-auc:0.82629\n",
      "[20]\ttrain-auc:0.97279\tval-auc:0.82413\n",
      "[25]\ttrain-auc:0.98011\tval-auc:0.81975\n",
      "[30]\ttrain-auc:0.98609\tval-auc:0.81876\n",
      "[35]\ttrain-auc:0.98999\tval-auc:0.81534\n",
      "[40]\ttrain-auc:0.99160\tval-auc:0.81460\n",
      "[45]\ttrain-auc:0.99407\tval-auc:0.81199\n",
      "[50]\ttrain-auc:0.99530\tval-auc:0.81242\n",
      "[55]\ttrain-auc:0.99639\tval-auc:0.81318\n",
      "[60]\ttrain-auc:0.99770\tval-auc:0.81235\n",
      "[65]\ttrain-auc:0.99897\tval-auc:0.81047\n",
      "[70]\ttrain-auc:0.99958\tval-auc:0.81088\n",
      "[75]\ttrain-auc:0.99981\tval-auc:0.81049\n",
      "[80]\ttrain-auc:0.99983\tval-auc:0.81159\n",
      "[85]\ttrain-auc:0.99988\tval-auc:0.81089\n",
      "[90]\ttrain-auc:0.99993\tval-auc:0.81131\n",
      "[95]\ttrain-auc:0.99997\tval-auc:0.81172\n",
      "[100]\ttrain-auc:0.99998\tval-auc:0.81276\n",
      "[105]\ttrain-auc:0.99999\tval-auc:0.81278\n",
      "[110]\ttrain-auc:1.00000\tval-auc:0.81130\n",
      "[115]\ttrain-auc:1.00000\tval-auc:0.80964\n",
      "[120]\ttrain-auc:1.00000\tval-auc:0.80956\n",
      "[125]\ttrain-auc:1.00000\tval-auc:0.80791\n",
      "[130]\ttrain-auc:1.00000\tval-auc:0.80791\n",
      "[135]\ttrain-auc:1.00000\tval-auc:0.80739\n",
      "[140]\ttrain-auc:1.00000\tval-auc:0.80707\n",
      "[145]\ttrain-auc:1.00000\tval-auc:0.80675\n",
      "[150]\ttrain-auc:1.00000\tval-auc:0.80642\n",
      "[155]\ttrain-auc:1.00000\tval-auc:0.80692\n",
      "[160]\ttrain-auc:1.00000\tval-auc:0.80665\n",
      "[165]\ttrain-auc:1.00000\tval-auc:0.80677\n",
      "[170]\ttrain-auc:1.00000\tval-auc:0.80566\n",
      "[175]\ttrain-auc:1.00000\tval-auc:0.80524\n",
      "[180]\ttrain-auc:1.00000\tval-auc:0.80649\n",
      "[185]\ttrain-auc:1.00000\tval-auc:0.80699\n",
      "[190]\ttrain-auc:1.00000\tval-auc:0.80775\n",
      "[195]\ttrain-auc:1.00000\tval-auc:0.80850\n",
      "[199]\ttrain-auc:1.00000\tval-auc:0.80787\n",
      "\n"
     ]
    }
   ],
   "source": [
    "print(output.stdout)"
   ]
  },
  {
   "cell_type": "code",
   "execution_count": 55,
   "id": "6429379e-80f0-4ea4-8041-d0e2fe07bf99",
   "metadata": {},
   "outputs": [],
   "source": [
    "s = output.stdout\n",
    "lines = s.split('\\n')"
   ]
  },
  {
   "cell_type": "code",
   "execution_count": 57,
   "id": "57811376-3876-451f-9b20-b48793ed5e09",
   "metadata": {},
   "outputs": [
    {
     "data": {
      "text/plain": [
       "['[0]', 'train-auc:0.86007', 'val-auc:0.76673']"
      ]
     },
     "execution_count": 57,
     "metadata": {},
     "output_type": "execute_result"
    }
   ],
   "source": [
    "lines[0].split('\\t')"
   ]
  },
  {
   "cell_type": "code",
   "execution_count": 65,
   "id": "4327b76d-e01a-4fcc-814c-ca2a69014953",
   "metadata": {},
   "outputs": [],
   "source": [
    "def process_line(line:str)->tuple[int, float, float]:\n",
    "    num_iter, train_auc, val_auc = line.split('\\t')\n",
    "    num_iter = int(num_iter.strip('[]'))\n",
    "    train_auc = float(train_auc.split(':')[1])\n",
    "    val_auc = float(val_auc.split(':')[1])\n",
    "    return num_iter, train_auc, val_auc\n",
    "    "
   ]
  },
  {
   "cell_type": "code",
   "execution_count": 68,
   "id": "3f3a3b27-7d0b-4fd3-b3cf-acef55db7a72",
   "metadata": {},
   "outputs": [],
   "source": [
    "results_df = pd.DataFrame([(process_line(line)) for line in lines if line.strip()], columns=[\"tree_index\", \"train_auc\", \"val_auc\"])"
   ]
  },
  {
   "cell_type": "code",
   "execution_count": 69,
   "id": "9dea7cc6-548d-4884-8f25-cecb5d3d8338",
   "metadata": {},
   "outputs": [
    {
     "data": {
      "text/html": [
       "<div>\n",
       "<style scoped>\n",
       "    .dataframe tbody tr th:only-of-type {\n",
       "        vertical-align: middle;\n",
       "    }\n",
       "\n",
       "    .dataframe tbody tr th {\n",
       "        vertical-align: top;\n",
       "    }\n",
       "\n",
       "    .dataframe thead th {\n",
       "        text-align: right;\n",
       "    }\n",
       "</style>\n",
       "<table border=\"1\" class=\"dataframe\">\n",
       "  <thead>\n",
       "    <tr style=\"text-align: right;\">\n",
       "      <th></th>\n",
       "      <th>tree_index</th>\n",
       "      <th>train_auc</th>\n",
       "      <th>val_auc</th>\n",
       "    </tr>\n",
       "  </thead>\n",
       "  <tbody>\n",
       "    <tr>\n",
       "      <th>0</th>\n",
       "      <td>0</td>\n",
       "      <td>0.86007</td>\n",
       "      <td>0.76673</td>\n",
       "    </tr>\n",
       "    <tr>\n",
       "      <th>1</th>\n",
       "      <td>5</td>\n",
       "      <td>0.92834</td>\n",
       "      <td>0.81731</td>\n",
       "    </tr>\n",
       "    <tr>\n",
       "      <th>2</th>\n",
       "      <td>10</td>\n",
       "      <td>0.95368</td>\n",
       "      <td>0.82261</td>\n",
       "    </tr>\n",
       "    <tr>\n",
       "      <th>3</th>\n",
       "      <td>15</td>\n",
       "      <td>0.96481</td>\n",
       "      <td>0.82629</td>\n",
       "    </tr>\n",
       "    <tr>\n",
       "      <th>4</th>\n",
       "      <td>20</td>\n",
       "      <td>0.97279</td>\n",
       "      <td>0.82413</td>\n",
       "    </tr>\n",
       "  </tbody>\n",
       "</table>\n",
       "</div>"
      ],
      "text/plain": [
       "   tree_index  train_auc  val_auc\n",
       "0           0    0.86007  0.76673\n",
       "1           5    0.92834  0.81731\n",
       "2          10    0.95368  0.82261\n",
       "3          15    0.96481  0.82629\n",
       "4          20    0.97279  0.82413"
      ]
     },
     "execution_count": 69,
     "metadata": {},
     "output_type": "execute_result"
    }
   ],
   "source": [
    "results_df.head()"
   ]
  },
  {
   "cell_type": "code",
   "execution_count": 72,
   "id": "117090f5-ee03-4478-b514-8660a6e09188",
   "metadata": {},
   "outputs": [
    {
     "data": {
      "image/png": "[encoded data removed]",
      "text/plain": [
       "<Figure size 640x480 with 1 Axes>"
      ]
     },
     "metadata": {},
     "output_type": "display_data"
    }
   ],
   "source": [
    "plt.plot(results_df.tree_index, results_df.train_auc, label=\"train\");\n",
    "plt.plot(results_df.tree_index, results_df.val_auc, label=\"val\");\n",
    "plt.legend();"
   ]
  },
  {
   "cell_type": "code",
   "execution_count": null,
   "id": "7cb16d68-18f3-485e-945d-7ca4adb81934",
   "metadata": {},
   "outputs": [],
   "source": []
  }
 ],
 "metadata": {
  "kernelspec": {
   "display_name": "Python 3 (ipykernel)",
   "language": "python",
   "name": "python3"
  },
  "language_info": {
   "codemirror_mode": {
    "name": "ipython",
    "version": 3
   },
   "file_extension": ".py",
   "mimetype": "text/x-python",
   "name": "python",
   "nbconvert_exporter": "python",
   "pygments_lexer": "ipython3",
   "version": "3.11.6"
  }
 },
 "nbformat": 4,
 "nbformat_minor": 5
}
